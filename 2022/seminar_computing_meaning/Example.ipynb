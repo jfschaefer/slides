{
 "cells": [
  {
   "cell_type": "markdown",
   "id": "eb650f10",
   "metadata": {},
   "source": [
    "#### GLIF with Jupyter Notebooks"
   ]
  },
  {
   "cell_type": "code",
   "execution_count": 1,
   "id": "08923d7a",
   "metadata": {},
   "outputs": [
    {
     "data": {
      "text/html": [
       "<span class=\"glif-stdout\">Hello world!</span>"
      ]
     },
     "metadata": {},
     "output_type": "display_data"
    }
   ],
   "source": [
    "put_string \"Hello world!\""
   ]
  },
  {
   "cell_type": "markdown",
   "id": "775c0ff5",
   "metadata": {},
   "source": [
    "#### Grammatical Framework: Intro"
   ]
  },
  {
   "cell_type": "code",
   "execution_count": 2,
   "id": "1d504bc7",
   "metadata": {},
   "outputs": [
    {
     "data": {
      "text/html": [
       "<span class=\"glif-stdout\">Successfully imported MiniExample.gf</span>"
      ]
     },
     "metadata": {},
     "output_type": "display_data"
    }
   ],
   "source": [
    "abstract MiniExample = {\n",
    "  cat\n",
    "    NP;  -- noun phrases\n",
    "    VP;  -- verb phrases\n",
    "    S;   -- sentences\n",
    "  fun\n",
    "    make_S : NP -> VP -> S;\n",
    "    and_S : S -> S -> S;\n",
    "\n",
    "    -- lexicon:\n",
    "    ahmed : NP;\n",
    "    berta : NP;\n",
    "    paint : VP;\n",
    "    be_quiet : VP;\n",
    "}"
   ]
  },
  {
   "cell_type": "code",
   "execution_count": 3,
   "id": "72c4bdf7",
   "metadata": {},
   "outputs": [
    {
     "data": {
      "text/html": [
       "<span class=\"glif-stdout\">Successfully imported MiniExampleEng.gf</span>"
      ]
     },
     "metadata": {},
     "output_type": "display_data"
    }
   ],
   "source": [
    "concrete MiniExampleEng of MiniExample = {\n",
    "  lincat\n",
    "    NP = Str;\n",
    "    VP = Str;\n",
    "    S = Str;\n",
    "  lin\n",
    "    make_S np vp = np ++ vp;\n",
    "    and_S s1 s2 = s1++\"and\"++s2;\n",
    "\n",
    "    ahmed = \"Ahmed\";\n",
    "    berta = \"Berta\";\n",
    "    paint = \"paints\";\n",
    "    be_quiet = \"is quiet\";\n",
    "}"
   ]
  },
  {
   "cell_type": "code",
   "execution_count": 9,
   "id": "90449a76",
   "metadata": {
    "scrolled": true
   },
   "outputs": [
    {
     "data": {
      "application/vnd.jupyter.widget-view+json": {
       "model_id": "a37acbac51534459bb6399d21201988b",
       "version_major": 2,
       "version_minor": 0
      },
      "text/plain": [
       "Dropdown(layout=Layout(width='max-content'), options=('1.0. and_S (make_S ahmed paint) (make_S berta be_quiet)…"
      ]
     },
     "metadata": {},
     "output_type": "display_data"
    },
    {
     "data": {
      "application/vnd.jupyter.widget-view+json": {
       "model_id": "922926812769490b8d4847211e3975ca",
       "version_major": 2,
       "version_minor": 0
      },
      "text/plain": [
       "Image(value=b'<?xml version=\"1.0\" encoding=\"UTF-8\" standalone=\"no\"?>\\n<!DOCTYPE svg PUBLIC \"-//W3C//DTD SVG 1.…"
      ]
     },
     "metadata": {},
     "output_type": "display_data"
    }
   ],
   "source": [
    "parse \\\n",
    "  \"Ahmed paints and Berta is quiet\" | vp -showfun"
   ]
  },
  {
   "cell_type": "code",
   "execution_count": 5,
   "id": "3b9061c6",
   "metadata": {},
   "outputs": [
    {
     "data": {
      "text/html": [
       "<span class=\"glif-stdout\">Successfully imported MiniExampleGer.gf</span>"
      ]
     },
     "metadata": {},
     "output_type": "display_data"
    }
   ],
   "source": [
    "concrete MiniExampleGer of MiniExample = {\n",
    "  lincat\n",
    "    NP = Str;\n",
    "    VP = Str;\n",
    "    S = Str;\n",
    "  lin\n",
    "    make_S np vp = np ++ vp;\n",
    "    and_S s1 s2 = s1++\"und\"++s2;\n",
    "\n",
    "    ahmed = \"Ahmed\";\n",
    "    berta = \"Berta\";\n",
    "    paint = \"zeichnet\";\n",
    "    be_quiet = \"ist leise\";\n",
    "}"
   ]
  },
  {
   "cell_type": "code",
   "execution_count": 6,
   "id": "d3e5653a",
   "metadata": {},
   "outputs": [
    {
     "data": {
      "text/html": [
       "<span class=\"glif-stdout\">Ahmed ist leise</span>"
      ]
     },
     "metadata": {},
     "output_type": "display_data"
    }
   ],
   "source": [
    "parse -lang=Eng \"Ahmed is quiet\" |\n",
    "  linearize -lang=Ger"
   ]
  },
  {
   "cell_type": "markdown",
   "id": "49dc084b",
   "metadata": {},
   "source": [
    "##### Bigger Example\n",
    "Allow `Ahmed and Berta paint` (not `paints`!)"
   ]
  },
  {
   "cell_type": "code",
   "execution_count": 10,
   "id": "db7f2c7f",
   "metadata": {},
   "outputs": [
    {
     "data": {
      "text/html": [
       "<span class=\"glif-stdout\">Successfully imported BiggerExample.gf</span>"
      ]
     },
     "metadata": {},
     "output_type": "display_data"
    }
   ],
   "source": [
    "abstract BiggerExample =\n",
    "        MiniExample ** {\n",
    "  fun\n",
    "    and_NP : NP -> NP -> NP;\n",
    "\n",
    "    everyone : NP;\n",
    "}"
   ]
  },
  {
   "cell_type": "code",
   "execution_count": 11,
   "id": "85584538",
   "metadata": {},
   "outputs": [
    {
     "data": {
      "text/html": [
       "<span class=\"glif-stdout\">Successfully imported BiggerExampleEng.gf</span>"
      ]
     },
     "metadata": {},
     "output_type": "display_data"
    }
   ],
   "source": [
    "concrete BiggerExampleEng of BiggerExample = {\n",
    "  param\n",
    "    Number = Sg | Pl;\n",
    "  lincat\n",
    "    NP = {s: Str; n: Number};\n",
    "    VP = {s: Number => Str};\n",
    "    S = Str;\n",
    "  lin\n",
    "    make_S np vp =\n",
    "       np.s ++ vp.s ! np.n;\n",
    "    and_S s1 s2 = s1++\"and\"++s2;\n",
    "    and_NP np1 np2 =\n",
    "       {s=np1.s++\"and\"++np2.s; n=Pl};\n",
    "    \n",
    "    ahmed = {s=\"Ahmed\"; n=Sg};\n",
    "    berta = {s=\"Berta\"; n=Sg};\n",
    "    paint = {s=table{\n",
    "       Sg=>\"paints\";Pl=>\"paint\"}};\n",
    "    be_quiet = {s=table{\n",
    "       Sg=>\"is quiet\";Pl=>\"are quiet\"}};\n",
    "    everyone = {s=\"everyone\"; n=Sg};\n",
    "}"
   ]
  },
  {
   "cell_type": "code",
   "execution_count": 12,
   "id": "f0e889f5",
   "metadata": {},
   "outputs": [
    {
     "data": {
      "text/html": [
       "<span class=\"glif-stdout\">make_S (and_NP ahmed berta) paint</span>"
      ]
     },
     "metadata": {},
     "output_type": "display_data"
    }
   ],
   "source": [
    "parse \"Ahmed and Berta paint\""
   ]
  },
  {
   "cell_type": "code",
   "execution_count": 13,
   "id": "5b123222",
   "metadata": {},
   "outputs": [
    {
     "data": {
      "text/html": [
       "\n",
       "<br/><span class=\"glif-stderr\"><b>Errors</b><br/>The parser failed at token 4: \"paints\"</span>"
      ]
     },
     "metadata": {},
     "output_type": "display_data"
    }
   ],
   "source": [
    "parse \"Ahmed and Berta paints\""
   ]
  },
  {
   "cell_type": "code",
   "execution_count": 14,
   "id": "99c184b0",
   "metadata": {},
   "outputs": [
    {
     "data": {
      "text/html": [
       "<span class=\"glif-stdout\">Successfully imported MiniExample_MMT.mmt</span>"
      ]
     },
     "metadata": {},
     "output_type": "display_data"
    }
   ],
   "source": [
    "theory MiniExample_MMT : ur:?LF =\n",
    "  NP : type ❙\n",
    "  VP : type ❙\n",
    "  S : type ❙\n",
    "  \n",
    "  make_S : NP ⟶ VP ⟶ S ❙\n",
    "  and_S : S ⟶ S ⟶ S ❙\n",
    "  \n",
    "  ahmed : NP ❙\n",
    "  berta : NP ❙\n",
    "  paint : VP ❙\n",
    "  be_quiet : VP ❙\n",
    "❚"
   ]
  },
  {
   "cell_type": "code",
   "execution_count": 15,
   "id": "d25b03c8",
   "metadata": {},
   "outputs": [
    {
     "data": {
      "text/html": [
       "<span class=\"glif-stdout\">Successfully imported logic.mmt</span>"
      ]
     },
     "metadata": {},
     "output_type": "display_data"
    }
   ],
   "source": [
    "theory logic : ur:?LF =\n",
    "  o: type ❙\n",
    "  not: o ⟶ o ❘ # ¬ 1 prec 80 ❙\n",
    "  and: o ⟶ o ⟶ o ❘ # 1 ∧ 2 prec 70 ❙\n",
    "  or:  o ⟶ o ⟶ o ❘ # 1 ∨ 2 prec 60 ❙\n",
    "\n",
    "  ι: type ❙\n",
    "  forall: (ι ⟶ o) ⟶ o ❘ # ∀ 1 ❙\n",
    "  exists: (ι ⟶ o) ⟶ o ❘ # ∃ 1 ❙\n",
    "❚"
   ]
  },
  {
   "cell_type": "code",
   "execution_count": 16,
   "id": "eeaf84c3",
   "metadata": {},
   "outputs": [
    {
     "data": {
      "text/html": [
       "<span class=\"glif-stdout\">Successfully imported ddt.mmt</span>"
      ]
     },
     "metadata": {},
     "output_type": "display_data"
    }
   ],
   "source": [
    "theory ddt : ?logic =\n",
    "  ahmed: ι ❙\n",
    "  berta: ι ❙\n",
    "  paint: ι ⟶ o ❙\n",
    "  quiet: ι ⟶ o ❙\n",
    "❚"
   ]
  },
  {
   "cell_type": "code",
   "execution_count": 17,
   "id": "3891713b",
   "metadata": {},
   "outputs": [
    {
     "data": {
      "text/html": [
       "<span class=\"glif-stdout\">Successfully imported MiniSemConstr.mmt</span>"
      ]
     },
     "metadata": {},
     "output_type": "display_data"
    }
   ],
   "source": [
    "view MiniSemConstr : ?MiniExample_MMT -> ?ddt =\n",
    "  S = o ❙\n",
    "  NP = ι ❙\n",
    "  VP = ι ⟶ o ❙\n",
    "  \n",
    "  // make_S : NP ⟶ VP ⟶ S ❙\n",
    "  make_S = [n, v] v n ❙\n",
    "  and_S = [s1, s2] s1 ∧ s2 ❙\n",
    "  \n",
    "  ahmed = ahmed ❙\n",
    "  berta = berta ❙\n",
    "  paint = paint ❙\n",
    "  be_quiet = quiet ❙\n",
    "❚"
   ]
  },
  {
   "cell_type": "code",
   "execution_count": 18,
   "id": "e041ca64",
   "metadata": {},
   "outputs": [
    {
     "data": {
      "text/html": [
       "<span class=\"glif-stdout\">make_S ahmed paint</span>"
      ]
     },
     "metadata": {},
     "output_type": "display_data"
    }
   ],
   "source": [
    "parse \"Ahmed paints\""
   ]
  },
  {
   "cell_type": "code",
   "execution_count": 19,
   "id": "eabe4032",
   "metadata": {},
   "outputs": [
    {
     "data": {
      "text/html": [
       "<span class=\"glif-stdout\">([n,v]v n) ahmed paint</span>"
      ]
     },
     "metadata": {},
     "output_type": "display_data"
    }
   ],
   "source": [
    "parse \"Ahmed paints\" | construct -no-simplify"
   ]
  },
  {
   "cell_type": "code",
   "execution_count": 23,
   "id": "3cb97e4a",
   "metadata": {},
   "outputs": [
    {
     "data": {
      "text/html": [
       "<span class=\"glif-stdout\">paint ahmed</span>"
      ]
     },
     "metadata": {},
     "output_type": "display_data"
    }
   ],
   "source": [
    "parse \"Ahmed paints\" | construct"
   ]
  },
  {
   "cell_type": "code",
   "execution_count": 20,
   "id": "bc3a6cf5",
   "metadata": {},
   "outputs": [
    {
     "data": {
      "text/html": [
       "<span class=\"glif-stdout\">and_S (make_S ahmed paint) (make_S berta be_quiet)</span>"
      ]
     },
     "metadata": {},
     "output_type": "display_data"
    }
   ],
   "source": [
    "parse \"Ahmed paints and Berta is quiet\""
   ]
  },
  {
   "cell_type": "code",
   "execution_count": 19,
   "id": "edb56953",
   "metadata": {
    "scrolled": true
   },
   "outputs": [
    {
     "data": {
      "text/html": [
       "<span class=\"glif-stdout\">([s1,s2]s1∧s2) (([n,v]v n) ahmed paint) (([n,v]v n) berta quiet)</span>"
      ]
     },
     "metadata": {},
     "output_type": "display_data"
    }
   ],
   "source": [
    "parse \"Ahmed paints and Berta is quiet\" | construct -no-simplify"
   ]
  },
  {
   "cell_type": "code",
   "execution_count": 18,
   "id": "eba9c650",
   "metadata": {},
   "outputs": [
    {
     "data": {
      "text/html": [
       "<span class=\"glif-stdout\">(paint ahmed)∧(quiet berta)</span>"
      ]
     },
     "metadata": {},
     "output_type": "display_data"
    }
   ],
   "source": [
    "parse \"Ahmed paints and Berta is quiet\" |\n",
    "  construct"
   ]
  },
  {
   "cell_type": "code",
   "execution_count": 20,
   "id": "15106e5d",
   "metadata": {},
   "outputs": [
    {
     "data": {
      "text/html": [
       "<span class=\"glif-stdout\">Successfully imported BiggerExampleSem.mmt</span>"
      ]
     },
     "metadata": {},
     "output_type": "display_data"
    }
   ],
   "source": [
    "view BiggerExampleSem : http://mathhub.info/tmpGLIF/default/BiggerExample.gf?BiggerExample -> ?ddt =\n",
    "  S = o ❙\n",
    "  NP = (ι ⟶ o) ⟶ o ❙\n",
    "  VP = ι ⟶ o ❙\n",
    "  \n",
    "  make_S = [n, v] n v ❙\n",
    "  and_S = [s1, s2] s1 ∧ s2 ❙\n",
    "  and_NP = [n1, n2] [v] n1 v ∧ n2 v ❙\n",
    "  \n",
    "  ahmed = [v] v ahmed ❙\n",
    "  berta = [v] v berta ❙\n",
    "  paint = paint ❙\n",
    "  be_quiet = quiet ❙\n",
    "  everyone = [v] ∀ [x] v x ❙\n",
    "❚"
   ]
  },
  {
   "cell_type": "code",
   "execution_count": 21,
   "id": "558ca697",
   "metadata": {},
   "outputs": [
    {
     "data": {
      "text/html": [
       "<span class=\"glif-stdout\">(paint ahmed)∧(paint berta)</span>"
      ]
     },
     "metadata": {},
     "output_type": "display_data"
    }
   ],
   "source": [
    "parse \"Ahmed and Berta paint\" |\n",
    "  construct"
   ]
  },
  {
   "cell_type": "code",
   "execution_count": 22,
   "id": "1a8c73f4",
   "metadata": {},
   "outputs": [
    {
     "data": {
      "text/html": [
       "<span class=\"glif-stdout\">(paint ahmed)∧∀[x]quiet x</span>"
      ]
     },
     "metadata": {},
     "output_type": "display_data"
    }
   ],
   "source": [
    "parse \"Ahmed paints and everyone is quiet\" |\n",
    "  construct"
   ]
  }
 ],
 "metadata": {
  "kernelspec": {
   "display_name": "GLIF",
   "language": "glif",
   "name": "glif"
  },
  "language_info": {
   "file_extension": ".glif",
   "mimetype": "text/glif",
   "name": "GLIF"
  }
 },
 "nbformat": 4,
 "nbformat_minor": 5
}
