{
 "cells": [
  {
   "cell_type": "markdown",
   "metadata": {},
   "source": [
    "# Abstract Syntax for Gossip"
   ]
  },
  {
   "cell_type": "code",
   "execution_count": 1,
   "metadata": {},
   "outputs": [
    {
     "data": {
      "text/plain": [
       "Defined Gossip"
      ]
     },
     "metadata": {},
     "output_type": "display_data"
    }
   ],
   "source": [
    "abstract Gossip = {\n",
    "  cat\n",
    "    Actor; Action; Stmt;\n",
    "  fun\n",
    "    everyone : Actor;\n",
    "    someone  : Actor;\n",
    "    makeStmt : Actor -> Action -> Stmt;\n",
    "    and      : Actor -> Actor -> Actor;\n",
    "}"
   ]
  },
  {
   "cell_type": "code",
   "execution_count": 2,
   "metadata": {},
   "outputs": [
    {
     "data": {
      "text/plain": [
       "Abstract changed, previous concretes discarded.\n"
      ]
     },
     "metadata": {},
     "output_type": "display_data"
    }
   ],
   "source": [
    "abstract GossipLex = Gossip ** {\n",
    "  fun\n",
    "    john, mary : Actor;\n",
    "    run        : Action;\n",
    "    be_happy   : Action;\n",
    "}"
   ]
  },
  {
   "cell_type": "markdown",
   "metadata": {},
   "source": [
    "# Concrete Syntax for English (first attempt)"
   ]
  },
  {
   "cell_type": "code",
   "execution_count": 3,
   "metadata": {},
   "outputs": [
    {
     "data": {
      "text/plain": [
       "Abstract changed, previous concretes discarded.\n"
      ]
     },
     "metadata": {},
     "output_type": "display_data"
    }
   ],
   "source": [
    "concrete GossipEng0 of Gossip = {\n",
    "  lincat\n",
    "    Actor = Str; Action = Str; Stmt = Str;\n",
    "  lin\n",
    "    everyone              = \"everyone\";\n",
    "    someone               = \"someone\";\n",
    "    makeStmt actor action = actor ++ action;\n",
    "    and a b               = a ++ \"and\" ++ b;\n",
    "}"
   ]
  },
  {
   "cell_type": "code",
   "execution_count": 4,
   "metadata": {},
   "outputs": [
    {
     "data": {
      "text/plain": [
       "Abstract changed, previous concretes discarded.\n"
      ]
     },
     "metadata": {},
     "output_type": "display_data"
    }
   ],
   "source": [
    "concrete GossipLexEng0 of GossipLex = GossipEng0 ** {\n",
    "  lin\n",
    "    john     = \"John\";\n",
    "    mary     = \"Mary\";\n",
    "    run      = \"runs\";\n",
    "    be_happy = \"is happy\";\n",
    "}"
   ]
  },
  {
   "cell_type": "markdown",
   "metadata": {},
   "source": [
    "### Let's try it out!"
   ]
  },
  {
   "cell_type": "code",
   "execution_count": 5,
   "metadata": {},
   "outputs": [
    {
     "data": {
      "text/plain": [
       "makeStmt john run\n"
      ]
     },
     "metadata": {},
     "output_type": "display_data"
    }
   ],
   "source": [
    "parse -lang=Eng0 -cat=Stmt \"John runs\""
   ]
  },
  {
   "cell_type": "code",
   "execution_count": 6,
   "metadata": {},
   "outputs": [
    {
     "data": {
      "text/plain": [
       "The parser failed at token 4: \"are\"\n"
      ]
     },
     "metadata": {},
     "output_type": "display_data"
    }
   ],
   "source": [
    "parse -lang=Eng0 -cat=Stmt \"John and Mary are happy\""
   ]
  },
  {
   "cell_type": "code",
   "execution_count": 7,
   "metadata": {},
   "outputs": [
    {
     "data": {
      "text/plain": [
       "John and Mary is happy\n"
      ]
     },
     "metadata": {},
     "output_type": "display_data"
    }
   ],
   "source": [
    "linearize makeStmt (and john mary) be_happy"
   ]
  },
  {
   "cell_type": "markdown",
   "metadata": {},
   "source": [
    "# Concrete Syntax for English (second attempt)"
   ]
  },
  {
   "cell_type": "code",
   "execution_count": 8,
   "metadata": {},
   "outputs": [
    {
     "data": {
      "text/plain": [
       "Abstract changed, previous concretes discarded.\n"
      ]
     },
     "metadata": {},
     "output_type": "display_data"
    }
   ],
   "source": [
    "concrete GossipEng1 of Gossip = {\n",
    "  param\n",
    "    Plurality = Sg | Pl;\n",
    "  lincat\n",
    "    Actor  = {s : Str; p : Plurality};\n",
    "    Action = Plurality => Str;\n",
    "    Stmt   = Str;\n",
    "  lin\n",
    "    everyone = {s = \"everyone\"; p = Sg};\n",
    "    someone  = {s = \"someone\"; p = Sg};\n",
    "    makeStmt actor action = actor.s ++ action ! actor.p;\n",
    "    and a b  = {s = a.s ++ \"and\" ++ b.s; p = Pl};\n",
    "}"
   ]
  },
  {
   "cell_type": "code",
   "execution_count": 9,
   "metadata": {},
   "outputs": [
    {
     "data": {
      "text/plain": [
       "Abstract changed, previous concretes discarded.\n"
      ]
     },
     "metadata": {},
     "output_type": "display_data"
    }
   ],
   "source": [
    "concrete GossipLexEng1 of GossipLex = GossipEng1 ** {\n",
    "  lin\n",
    "    john     = {s = \"John\"; p = Sg};\n",
    "    mary     = {s = \"Mary\"; p = Sg};\n",
    "    run      = table {Sg => \"runs\"; Pl => \"run\"};\n",
    "    be_happy = table {Sg => \"is happy\"; Pl => \"are happy\"};\n",
    "}"
   ]
  },
  {
   "cell_type": "markdown",
   "metadata": {},
   "source": [
    "### Let's try it out!"
   ]
  },
  {
   "cell_type": "code",
   "execution_count": 10,
   "metadata": {},
   "outputs": [
    {
     "data": {
      "text/plain": [
       "makeStmt john run\n"
      ]
     },
     "metadata": {},
     "output_type": "display_data"
    }
   ],
   "source": [
    "parse -lang=Eng1 -cat=Stmt \"John runs\""
   ]
  },
  {
   "cell_type": "code",
   "execution_count": 11,
   "metadata": {},
   "outputs": [
    {
     "data": {
      "text/plain": [
       "makeStmt (and john mary) be_happy\n"
      ]
     },
     "metadata": {},
     "output_type": "display_data"
    }
   ],
   "source": [
    "parse -lang=Eng1 -cat=Stmt \"John and Mary are happy\""
   ]
  },
  {
   "cell_type": "code",
   "execution_count": 12,
   "metadata": {},
   "outputs": [
    {
     "data": {
      "text/plain": [
       "The parser failed at token 4: \"is\"\n"
      ]
     },
     "metadata": {},
     "output_type": "display_data"
    }
   ],
   "source": [
    "parse -lang=Eng1 -cat=Stmt \"John and Mary is happy\""
   ]
  }
 ],
 "metadata": {
  "kernelspec": {
   "display_name": "GF",
   "language": "gf",
   "name": "gf"
  },
  "language_info": {
   "file_extension": ".gf",
   "mimetype": "text/gf",
   "name": "gf"
  }
 },
 "nbformat": 4,
 "nbformat_minor": 2
}
