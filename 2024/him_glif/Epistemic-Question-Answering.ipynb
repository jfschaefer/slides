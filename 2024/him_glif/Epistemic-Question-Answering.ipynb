{
 "cells": [
  {
   "cell_type": "markdown",
   "metadata": {},
   "source": [
    "# Answering Epistemic Questions\n",
    "\n",
    "In this case study, we use GLIF to answer yes/no question that require handling the knowledge of different people.\n",
    "For example, given the input\n",
    "\n",
    "    John knows that Mary or Eve knows that Ping has a dog.\n",
    "    Mary doesn't know if Ping has a dog.\n",
    "    Does Eve know if Ping has a dog?\n",
    "    \n",
    "the system should reply *\"Yes\"*."
   ]
  },
  {
   "cell_type": "code",
   "execution_count": 1,
   "metadata": {},
   "outputs": [
    {
     "data": {
      "text/html": [
       "<div class=\"glif-stdout\"><span>Successfully changed archive</span></div>"
      ]
     },
     "metadata": {},
     "output_type": "display_data"
    }
   ],
   "source": [
    "archive tmpGLIF/examples epistemic"
   ]
  },
  {
   "cell_type": "markdown",
   "metadata": {},
   "source": [
    "## Grammar\n",
    "\n",
    "First, we have to be able to parse the sentences.\n",
    "While the grammar (or at least, the abstract syntax) is fairly easy,\n",
    "we would have to take care of the endings. Consider, for example, the following sentences:\n",
    "* *John has a dog*\n",
    "* *John doesn't have a dog*\n",
    "* *John and Mary have a dog*\n",
    "\n",
    "GF has mechanisms to take care of the verb forms (*has* vs *doesn't have* vs *have*),\n",
    "but rather than doing this ourselves, we will use the [RGL (Resource Grammar Library)](https://www.grammaticalframework.org/lib/doc/synopsis/index.html) that comes with GF and implements morphology and basic syntax of lots of languages.\n",
    "\n",
    "As a consequence, we inherit the maybe slightly un-intuitive but useful distinction between a full sentence and a clause (`Cl`).\n",
    "A `Cl` already has a noun phrase and a verb phrase, but it still has to be turned into a sentence.\n",
    "For example, a `Cl` might have *John* and *to have a dog*, and we turn it into different sentences:\n",
    "* *John has a dog*\n",
    "* *John doesn't have a dog*\n",
    "* *does John have a dog?*\n",
    "\n",
    "With RGL, we could also use other tenses, but that's not relevant for us."
   ]
  },
  {
   "cell_type": "code",
   "execution_count": 2,
   "metadata": {},
   "outputs": [
    {
     "data": {
      "text/html": [
       "<div class=\"glif-stdout\"><span>Successfully imported Epistemic.gf</span></div>"
      ]
     },
     "metadata": {},
     "output_type": "display_data"
    }
   ],
   "source": [
    "abstract Epistemic = {\n",
    "    cat\n",
    "        S;          -- a full sentence (statement or question)\n",
    "        Cl;         -- a clause (almost a sentence, but can still be turned into a question/statement)\n",
    "        Agent;      -- \"John\"\n",
    "        NP;         -- \"John and Mary\"\n",
    "        VP;         -- \"to have a dog\" or \"to love John\"\n",
    "    \n",
    "    fun\n",
    "        state : Cl -> S;            -- \"John has a dog\"\n",
    "        stateNot : Cl -> S;         -- \"John doesn't have a dog\"\n",
    "        ask : Cl -> S;              -- \"Does John have a dog?\"\n",
    "\n",
    "        simpleCl : NP -> VP -> Cl;  -- \"John has a dog\"\n",
    "        knowCl : NP -> Cl -> Cl;    -- \"Mary knows that John has a dog\"\n",
    "        knowNotCl : NP -> Cl -> Cl; -- \"Mary knows that John doesn't have a dog\"\n",
    "        knowWhetherCl : NP -> Cl -> Cl;  -- \"Mary knows whether John has a dog\"\n",
    "        \n",
    "        npify : Agent -> NP;        -- \"John\"\n",
    "        andNP : NP -> NP -> NP;     -- \"John and Mary\"\n",
    "        orNP : NP -> NP -> NP;      -- \"John or Mary\"\n",
    "        \n",
    "        john, mary, eve, ping : Agent;\n",
    "        have_cat, have_dog : VP;\n",
    "        love, hate : NP -> VP;\n",
    "}"
   ]
  },
  {
   "cell_type": "markdown",
   "metadata": {},
   "source": [
    "In the **concrete syntax**, we map the syntactic categories from our abstract syntax to types from the RGL.\n",
    "Similarly, we provide linearizations for the rules using RGL operations.\n",
    "\n",
    "You will see that the input/output does not exactly match our expectations.\n",
    "Concretely, there will be a space before punctuation and questions starting with *do*/*does* start with a lowercase letter.\n",
    "That's because GF works with tokens, which are, by default, space-separated.\n",
    "We could fix this with relatively simple pre-processing."
   ]
  },
  {
   "cell_type": "code",
   "execution_count": 3,
   "metadata": {},
   "outputs": [
    {
     "data": {
      "text/html": [
       "<div class=\"glif-stdout\"><span>Successfully imported EpistemicEng.gf</span></div>"
      ]
     },
     "metadata": {},
     "output_type": "display_data"
    }
   ],
   "source": [
    "concrete EpistemicEng of Epistemic = open SyntaxEng, ParadigmsEng, ParamX in {\n",
    "    lincat\n",
    "        S = Text;\n",
    "        Cl = Cl;\n",
    "        Agent = PN;\n",
    "        NP = NP;\n",
    "        VP = VP;\n",
    "\n",
    "    lin\n",
    "        state cl = mkText (mkS positivePol cl);\n",
    "        stateNot cl = mkText (mkS negativePol cl);\n",
    "        ask cl = mkText (mkQS cl);\n",
    "        \n",
    "        simpleCl p v = mkCl p v;\n",
    "        knowCl p cl = mkCl p (mkVS (mkV \"know\")) (mkS positivePol cl);\n",
    "        knowNotCl p cl = mkCl p (mkVS (mkV \"know\")) (mkS negativePol cl);\n",
    "        knowWhetherCl np cl = mkCl np (mkVP (mkVQ (mkV \"know\")) (mkQS (mkQCl cl)));\n",
    "\n",
    "        npify a = mkNP a;\n",
    "        andNP a b = mkNP and_Conj a b;\n",
    "        orNP a b = mkNP or_Conj a b;\n",
    "\n",
    "        john = mkPN \"John\";\n",
    "        mary = mkPN \"Mary\";\n",
    "        eve = mkPN \"Eve\";\n",
    "        ping = mkPN \"Ping\";\n",
    "        have_cat = mkVP have_V2 (mkNP aSg_Det (mkN \"cat\"));\n",
    "        have_dog = mkVP have_V2 (mkNP aSg_Det (mkN \"dog\"));\n",
    "        love p = mkVP (mkV2 (mkV \"love\")) p;\n",
    "        hate p = mkVP (mkV2 (mkV \"hate\")) p;\n",
    "}"
   ]
  },
  {
   "cell_type": "code",
   "execution_count": 4,
   "metadata": {},
   "outputs": [
    {
     "data": {
      "text/html": [
       "<div class=\"glif-stdout\"><span>Mary and Ping and Ping or Eve don&#x27;t know that Eve doesn&#x27;t know that Ping has a dog .</span><br/><span>Eve or Eve and Eve don&#x27;t know that Eve hates Mary .</span><br/><span>do Eve and Eve have a dog ?</span><br/><span>do Ping and John and John and Eve know that Mary or John has a dog ?</span><br/><span>Eve hates Mary .</span></div>"
      ]
     },
     "metadata": {},
     "output_type": "display_data"
    }
   ],
   "source": [
    "-- some random sentences\n",
    "gr -number=5 -depth=5 | l"
   ]
  },
  {
   "cell_type": "code",
   "execution_count": 5,
   "metadata": {},
   "outputs": [
    {
     "data": {
      "application/vnd.jupyter.widget-view+json": {
       "model_id": "41d539d73d574f1fb0e943ba3ac0890e",
       "version_major": 2,
       "version_minor": 0
      },
      "text/plain": [
       "Dropdown(layout=Layout(width='max-content'), options=('0.0. state (simpleCl (npify john) (love (npify mary)))'…"
      ]
     },
     "metadata": {},
     "output_type": "display_data"
    },
    {
     "data": {
      "application/vnd.jupyter.widget-view+json": {
       "model_id": "8a528d9d16bc415e9202116508e32aec",
       "version_major": 2,
       "version_minor": 0
      },
      "text/plain": [
       "Image(value=b'<?xml version=\"1.0\" encoding=\"UTF-8\" sta...', format='svg+xml')"
      ]
     },
     "metadata": {},
     "output_type": "display_data"
    }
   ],
   "source": [
    "-- and some visualizations\n",
    "parse \"John loves Mary .\" \"does John love Mary ?\" \"John and Mary love Ping .\" \"John doesn't love Mary .\" \"John knows that Mary has a dog .\" | vp -showfun"
   ]
  },
  {
   "cell_type": "markdown",
   "metadata": {},
   "source": [
    "## Logic\n",
    "\n",
    "We will represent the logic in the multi-modal logic S5n.\n",
    "The box operator is used to state that someone knows something.\n",
    "As we have a separate operator for every person, we will use the notation\n",
    "⟦A⟧φ to indicate that A knows that φ is true.\n",
    "\n",
    "For example, *John knows that Mary loves Eve* would be represented as\n",
    "\n",
    "    ⟦john⟧(love mary eve)\n",
    "    "
   ]
  },
  {
   "cell_type": "code",
   "execution_count": 6,
   "metadata": {},
   "outputs": [
    {
     "data": {
      "text/html": [
       "<div class=\"glif-stdout\"><span>Successfully imported proplog.mmt</span></div>"
      ]
     },
     "metadata": {},
     "output_type": "display_data"
    }
   ],
   "source": [
    "theory proplog : ur:?LF =\n",
    "    proposition : type ❘ # o ❙\n",
    "    neg : o ⟶ o ❘ # ¬ 1 prec 80 ❙\n",
    "    and : o ⟶ o ⟶ o ❘ # 1 ∧ 2 prec 60 ❙\n",
    "    or : o ⟶ o ⟶ o ❘ # 1 ∨ 2 prec 50 ❙\n",
    "    imp : o ⟶ o ⟶ o ❘ # 1 ⇒ 2 prec 40 ❙\n",
    "❚ "
   ]
  },
  {
   "cell_type": "code",
   "execution_count": 7,
   "metadata": {},
   "outputs": [
    {
     "data": {
      "text/html": [
       "<div class=\"glif-stdout\"><span>Successfully imported s5n.mmt</span></div>"
      ]
     },
     "metadata": {},
     "output_type": "display_data"
    }
   ],
   "source": [
    "theory s5n : ur:?LF =\n",
    "    include ?proplog ❙\n",
    "    agent : type ❘ # ι ❙\n",
    "    box : ι ⟶ o ⟶ o ❘ # ⟦ 1 ⟧ 2 prec 10 ❙\n",
    "    dia : ι ⟶ o ⟶ o ❘ # ⟪ 1 ⟫ 2 prec 10 ❙\n",
    "❚"
   ]
  },
  {
   "cell_type": "code",
   "execution_count": 8,
   "metadata": {},
   "outputs": [
    {
     "data": {
      "text/html": [
       "<div class=\"glif-stdout\"><span>Successfully imported utterances.mmt</span></div>"
      ]
     },
     "metadata": {},
     "output_type": "display_data"
    }
   ],
   "source": [
    "theory utterances : ur:?LF =\n",
    "    include ?proplog ❙\n",
    "    // After the semantics construction, we will still want to distinguish statements and questions ❙\n",
    "    utterance : type ❙\n",
    "    statement : o ⟶ utterance ❘ # ! 1 ❙\n",
    "    question : o ⟶ utterance ❘ # ? 1 ❙\n",
    "❚"
   ]
  },
  {
   "cell_type": "code",
   "execution_count": 9,
   "metadata": {},
   "outputs": [
    {
     "data": {
      "text/html": [
       "<div class=\"glif-stdout\"><span>Successfully imported epistemicDDT.mmt</span></div>"
      ]
     },
     "metadata": {},
     "output_type": "display_data"
    }
   ],
   "source": [
    "theory epistemicDDT : ?proplog =\n",
    "    // The \"discourse domain theory\" ❙\n",
    "    // Sentences will be translated to expressions in this theory ❙\n",
    "    include ?utterances ❙\n",
    "    include ?s5n ❙\n",
    "    john : ι ❙\n",
    "    mary : ι ❙\n",
    "    eve : ι ❙\n",
    "    ping : ι ❙\n",
    "    havedog : ι ⟶ o ❙\n",
    "    havecat : ι ⟶ o ❙\n",
    "    love : ι ⟶ ι ⟶ o ❙\n",
    "    hate : ι ⟶ ι ⟶ o ❙\n",
    "❚"
   ]
  },
  {
   "cell_type": "markdown",
   "metadata": {},
   "source": [
    "In the **semantics construction view** we map all symbols from the abstract syntax to expressions in the target theory `epistemicDDT`.\n",
    "\n",
    "For noun phrases (`NP`), we use **type raising**.\n",
    "While intuitively, the type of *John* should be ι, that doesn't work anymore for complex noun phrases like *John and Mary*.\n",
    "Instead, we use the well-established trick and use type (ι⟶o)⟶o.\n",
    "*John and Mary* would then be represented as \\[p\\] p john ∧ p mary.\n",
    "Whatever we want to say about John and Mary, we can then say by choosing an appropriate predicate p.\n",
    "For example, *John and Mary have a dog* would be translated to (\\[p\\] p john ∧ p mary) havedog.\n",
    "\n",
    "Below, we will have a few examples that might help illustrate this."
   ]
  },
  {
   "cell_type": "code",
   "execution_count": 10,
   "metadata": {},
   "outputs": [
    {
     "data": {
      "text/html": [
       "<div class=\"glif-stdout\"><span>Successfully imported EpistemicSemantics.mmt</span></div>"
      ]
     },
     "metadata": {},
     "output_type": "display_data"
    }
   ],
   "source": [
    "view EpistemicSemantics : http://mathhub.info/tmpGLIF/examples/epistemic/Epistemic.gf?Epistemic -> ?epistemicDDT =\n",
    "    S = utterance ❙\n",
    "    Cl = o ❙\n",
    "    Agent = ι ❙\n",
    "    NP = (ι ⟶ o) ⟶ o ❙\n",
    "    VP = ι ⟶ o ❙\n",
    "\n",
    "    state = [cl] statement cl ❙\n",
    "    stateNot = [cl] statement (¬(cl)) ❙\n",
    "    ask = [cl] question cl ❙\n",
    "    simpleCl = [np,vp] np vp ❙\n",
    "    knowCl = [np,s] np ([x] ⟦ x ⟧ s) ❙\n",
    "    knowNotCl = [np,s] np ([x] ⟦ x ⟧ ¬(s)) ❙\n",
    "    knowWhetherCl = [np,cl] (np ([x] ⟦ x ⟧ cl)) ∨ (np ([x] ⟦ x ⟧ ¬ (cl))) ❙\n",
    "\n",
    "    npify = [x] [p] p x ❙\n",
    "    andNP = [a,b] [p] (a p) ∧ (b p) ❙\n",
    "    orNP = [a,b] [p] (a p) ∨ (b p) ❙\n",
    "    \n",
    "    john = john ❙\n",
    "    mary = mary ❙\n",
    "    eve = eve ❙\n",
    "    ping = ping ❙\n",
    "    have_cat = havecat ❙\n",
    "    have_dog = havedog ❙\n",
    "    love = [np] [x] np (love x) ❙\n",
    "    hate = [np] [x] np (hate x) ❙\n",
    "❚"
   ]
  },
  {
   "cell_type": "code",
   "execution_count": 11,
   "metadata": {},
   "outputs": [
    {
     "data": {
      "text/html": [
       "<div class=\"glif-stdout\"><span>state (simpleCl (npify john) have_dog)</span></div>"
      ]
     },
     "metadata": {},
     "output_type": "display_data"
    },
    {
     "data": {
      "text/html": [
       "<hr class=\"glif-sep\"/>"
      ]
     },
     "metadata": {},
     "output_type": "display_data"
    },
    {
     "data": {
      "text/html": [
       "<div class=\"glif-stdout\"><span>([cl]!cl) (([np,vp]np vp) (([x][p]p x) john) havedog)</span></div>"
      ]
     },
     "metadata": {},
     "output_type": "display_data"
    },
    {
     "data": {
      "text/html": [
       "<hr class=\"glif-sep\"/>"
      ]
     },
     "metadata": {},
     "output_type": "display_data"
    },
    {
     "data": {
      "text/html": [
       "<div class=\"glif-stdout\"><span>!(havedog john)</span></div>"
      ]
     },
     "metadata": {},
     "output_type": "display_data"
    }
   ],
   "source": [
    "p \"John has a dog .\"\n",
    "p \"John has a dog .\" | construct -no-simplify\n",
    "p \"John has a dog .\" | construct"
   ]
  },
  {
   "cell_type": "code",
   "execution_count": 12,
   "metadata": {},
   "outputs": [
    {
     "data": {
      "text/html": [
       "<div class=\"glif-stdout\"><span>?(havedog john)</span></div>"
      ]
     },
     "metadata": {},
     "output_type": "display_data"
    }
   ],
   "source": [
    "p \"does John have a dog ?\" | construct"
   ]
  },
  {
   "cell_type": "code",
   "execution_count": 13,
   "metadata": {},
   "outputs": [
    {
     "data": {
      "text/html": [
       "<div class=\"glif-stdout\"><span>!(havedog john)∧((havedog mary)∧(havedog ping))</span><br/><span>!(havedog john)∧(havedog mary)∧(havedog ping)</span></div>"
      ]
     },
     "metadata": {},
     "output_type": "display_data"
    }
   ],
   "source": [
    "-- two ways to parse this ⟶ two logical expressions\n",
    "p \"John and Mary and Ping have a dog .\" | construct"
   ]
  },
  {
   "cell_type": "code",
   "execution_count": 14,
   "metadata": {},
   "outputs": [
    {
     "data": {
      "text/html": [
       "<div class=\"glif-stdout\"><span>[p](p john)∧(p mary)</span></div>"
      ]
     },
     "metadata": {},
     "output_type": "display_data"
    }
   ],
   "source": [
    "p -cat=NP \"John and Mary\" | construct"
   ]
  },
  {
   "cell_type": "code",
   "execution_count": 15,
   "metadata": {},
   "outputs": [
    {
     "data": {
      "text/html": [
       "<div class=\"glif-stdout\"><span>!⟦john⟧(love mary john)</span></div>"
      ]
     },
     "metadata": {},
     "output_type": "display_data"
    }
   ],
   "source": [
    "p \"John knows that Mary loves John .\" | construct"
   ]
  },
  {
   "cell_type": "code",
   "execution_count": 16,
   "metadata": {},
   "outputs": [
    {
     "data": {
      "text/html": [
       "<div class=\"glif-stdout\"><span>!¬((⟦john⟧(havedog mary)∧(havedog ping))∨⟦john⟧¬((havedog mary)∧(havedog ping)))</span></div>"
      ]
     },
     "metadata": {},
     "output_type": "display_data"
    }
   ],
   "source": [
    "p \"John doesn't know if Mary and Ping have a dog .\" | construct"
   ]
  },
  {
   "cell_type": "code",
   "execution_count": 17,
   "metadata": {},
   "outputs": [
    {
     "data": {
      "text/html": [
       "<div class=\"glif-stdout\"><span>!⟦john⟧(love mary john)∧(love mary eve)</span></div>"
      ]
     },
     "metadata": {},
     "output_type": "display_data"
    }
   ],
   "source": [
    "p \"John knows that Mary loves John and Eve .\" | construct"
   ]
  },
  {
   "cell_type": "code",
   "execution_count": 18,
   "metadata": {},
   "outputs": [
    {
     "data": {
      "text/html": [
       "<div class=\"glif-stdout\"><span>!(havedog john)</span><br/><span>!(havedog mary)</span><br/><span>?(havedog eve)</span></div>"
      ]
     },
     "metadata": {},
     "output_type": "display_data"
    }
   ],
   "source": [
    "-- We can also do sequences of sentences\n",
    "p \"John has a dog .\" \"Mary has a dog .\" \"does Eve have a dog ?\" | construct"
   ]
  },
  {
   "cell_type": "markdown",
   "metadata": {},
   "source": [
    "## Inference\n",
    "\n",
    "For the inference, we need an S5n prover.\n",
    "In this case, we adapted a Prolog prover from *de Boer, M. S. (2006). Praktische Bewĳzen in Public Announcement Logica*.\n",
    "Type-checking is optional in ELPI and in this case we do not use it because the Prolog was not designed with that in mind.\n"
   ]
  },
  {
   "cell_type": "code",
   "execution_count": 19,
   "metadata": {},
   "outputs": [
    {
     "data": {
      "text/html": [
       "<div class=\"glif-stdout\"><span>Successfully imported util.elpi</span><br/><span>util.elpi is the new default file for ELPI commands</span></div>"
      ]
     },
     "metadata": {},
     "output_type": "display_data"
    }
   ],
   "source": [
    "elpi-notc: util\n",
    "\n",
    "% the original prover was implemented in normal Prolog, so we need some helper predicates.\n",
    "\n",
    "select A [A] [] :- !.\n",
    "select A [A|L] L.\n",
    "select A [X|T] [X|R] :- select A T R.\n",
    "\n",
    "freeze X f :- var X, !, declare_constraint (f X) [X].\n",
    "freeze X f :- f X.\n",
    "\n",
    "member X [X|_] :- !.\n",
    "member X [_|L] :- member X L."
   ]
  },
  {
   "cell_type": "code",
   "execution_count": 20,
   "metadata": {},
   "outputs": [
    {
     "data": {
      "text/html": [
       "<div class=\"glif-stdout\"><span>Successfully imported s5npal.elpi</span><br/><span>s5npal.elpi is the new default file for ELPI commands</span></div>"
      ]
     },
     "metadata": {},
     "output_type": "display_data"
    }
   ],
   "source": [
    "elpi-notc: s5npal\n",
    "\n",
    "accumulate util.\n",
    "\n",
    "% Adapted from: de Boer, M. S. (2006). Praktische Bewĳzen in Public Announcement Logica.\n",
    "\n",
    "% This is probably not very understandable – you may just accept it as a blackbox.\n",
    "\n",
    "p F :- prove [l [] (neg F)] [], !.\n",
    "\n",
    "prove [LFml|Fs] Branch :- \n",
    "    (ruleOne LFml _tpe NLF, !, prove [NLF|Fs] Branch);\n",
    "    (ruleTwo LFml conj A B, !, prove [A,B|Fs] Branch).\n",
    "prove [l L Fml|Fs] Branch :-\n",
    "    (Fml = neg Neg; Neg = neg Fml),\n",
    "    (memberunify (l L Neg) Branch; prove Fs [l L Fml | Branch]), !.\n",
    "prove [] Branch :-\n",
    "    select (l Label Fml) Branch RestB,\n",
    "    ruleTwo (l _ Fml) disj (l _ A) (l _ B),\n",
    "    expand Label Inst M _,\n",
    "    (Label = l _ L; Label = L), !,\n",
    "    prove [l M A] [l (l Inst L) Fml|RestB],\n",
    "    prove [l M B] [l (l Inst L) Fml|RestB].\n",
    "\n",
    "expand (l [[X|Xs]|Xss] [star I|Ls]) [[X|Xs]|Yss] [l X I|Ms] G :-\n",
    "    var X, !,\n",
    "    expand (l Xss Ls) Yss Ms G.\n",
    "expand (l [Xs|Xss] [star I|Ls]) [[X|Xs]|Yss] [l X I|Ms] _ :- !,\n",
    "    freeze X (x \\ not (member X Xs)),\n",
    "    expand (l Xss Ls) Yss Ms true.\n",
    "expand (l Xss [C|Ls]) Yss [C|Ms] G :- !,\n",
    "    expand (l Xss Ls) Yss Ms G.\n",
    "expand (l [] []) [] [] G :-\n",
    "    not (var G).\n",
    "expand [star I|Ls] [[X]|Xss] [l X I|Ms] _ :- !,\n",
    "    expand Ls Xss Ms _.\n",
    "expand [L|Ls] Xss [L|Ms] _ :- !,\n",
    "    expand Ls Xss Ms _.\n",
    "expand [] [] [] _.\n",
    "\n",
    "memberunify (l L A) Ls :-\n",
    "    member (l K A) Ls,\n",
    "    red O L [],\n",
    "    red O K [], !.\n",
    "\n",
    "red O [l _ I|L] [l X I|R] :- !,\n",
    "    red O L [l X I|R].\n",
    "red O L [l O _|R] :-\n",
    "    red O L R.\n",
    "red O L [star I|R] :- !,\n",
    "    red O L [l _ I|R].\n",
    "red O [X|L] R :- !,\n",
    "    red O L [X|R].\n",
    "red O [] O.\n",
    "\n",
    "ruleTwo (l L (and A B)) conj (l L A) (l L B).\n",
    "ruleTwo (l L (neg (imp A B))) conj (l L A) (l L (neg B)).\n",
    "ruleTwo (l L (neg (or A B))) conj (l L (neg A)) (l L (neg B)).\n",
    "ruleTwo (l L (or A B)) disj (l L A) (l L B).\n",
    "ruleTwo (l L (imp A B)) disj (l L (neg A)) (l L B).\n",
    "ruleTwo (l L (neg (and A B))) disj (l L (neg A)) (l L (neg B)).\n",
    "ruleTwo (l L (eq A B)) disj (l L (and A B)) (l L (and (neg A) (neg B))).\n",
    "ruleTwo (l L (neg (eq A B))) disj (l L (and A (neg B))) (l L (and (neg A) B)).\n",
    "\n",
    "ruleOne (l L (neg (bra F))) doub (l L (neg F)).\n",
    "ruleOne (l L (bra F)) doub (l L F).\n",
    "ruleOne (l L (neg (neg F))) doub (l L F).\n",
    "\n",
    "ruleOne (l [l _ I|L] (box I F)) know (l [star I|L] F).\n",
    "ruleOne (l [l _ I|L] (neg (dia I F))) know (l [star I|L] (neg F)).\n",
    "ruleOne (l [star I|L] (box I F)) know (l [star I|L] F).\n",
    "ruleOne (l [star I|L] (neg (dia I F))) know (l [star I|L] (neg F)).\n",
    "ruleOne (l L (box I F)) know (l [star I|L] F).\n",
    "ruleOne (l L (neg (dia I F))) know (l [star I|L] (neg F)).\n",
    "\n",
    "ruleOne (l [l _ I|L] (dia I F)) poss (l [l F I|L] F).\n",
    "ruleOne (l [l _ I|L] (neg (bos I F))) poss (l [l F I|L] (neg F)).\n",
    "ruleOne (l [star I|L] (dia I F)) poss (l [l F I|L] F).\n",
    "ruleOne (l [star I|L] (neg (bos I F))) poss (l [l (neg F) I|L] (neg F)).\n",
    "ruleOne (l L (dia I F)) poss (l [l F I|L] F).\n",
    "ruleOne (l L (neg (box I F))) poss (l [l (neg F) I|L] (neg F))."
   ]
  },
  {
   "cell_type": "code",
   "execution_count": 21,
   "metadata": {},
   "outputs": [
    {
     "data": {
      "text/html": [
       "<div class=\"glif-stdout\"><span>Successfully created epistemicDDT.elpi</span></div>"
      ]
     },
     "metadata": {},
     "output_type": "display_data"
    }
   ],
   "source": [
    "-- generate ELPI signatures for discourse domain theory and the grammar\n",
    "elpigen -mode=types epistemicDDT"
   ]
  },
  {
   "cell_type": "markdown",
   "metadata": {},
   "source": [
    "## Question answering\n",
    "\n",
    "If we have premises (statements) P1, ..., Pn and a question Q, then we want to reply\n",
    "* **Yes** if P1 ∧ ... ∧ Pn ⊢ Q (and not P1 ∧ ... ∧ Pn ⊢ ⊥)\n",
    "* **No** if P1 ∧ ... ∧ Pn ⊢ ¬Q\n",
    "* **That doesn't make sense** if P1 ∧ ... ∧ Pn ⊢ ⊥ (i.e. the premises are inconsistent)\n",
    "* **Unknown** otherwise\n",
    "\n",
    "Below, we have some code that uses the prover from above to answer questions.\n",
    "GLIF will call the `apply` predicate with a list of items.\n",
    "An **item** is in this case a logical expression, but it also carries the original sentence, which lets us print the questions we are answering in English."
   ]
  },
  {
   "cell_type": "code",
   "execution_count": 22,
   "metadata": {},
   "outputs": [
    {
     "data": {
      "text/html": [
       "<div class=\"glif-stdout\"><span>Successfully imported answerer.elpi</span><br/><span>answerer.elpi is the new default file for ELPI commands</span></div>"
      ]
     },
     "metadata": {},
     "output_type": "display_data"
    }
   ],
   "source": [
    "elpi-notc: answerer\n",
    "\n",
    "accumulate s5npal.\n",
    "accumulate epistemicDDT.\n",
    "\n",
    "% Question answering as explained above.\n",
    "% We use implication (`imp`) as we have A ⇒ B is valid iff A ⊢ B.\n",
    "answer Premises _Conclusion :-\n",
    "    p (imp Premises falsum), !, print \"  ⟶ That doesn't make sense!\".\n",
    "answer Premises Conclusion :-\n",
    "    p (imp Premises Conclusion), !, print \"  ⟶ Yes!\".\n",
    "answer Premises Conclusion :-\n",
    "    p (imp Premises (neg Conclusion)), !, print \"  ⟶ No!\".\n",
    "answer _Premises _Conclusion :-\n",
    "    print \"  ⟶ Unknown...\".\n",
    "\n",
    "% A sequence of sentences might have multiple questions.\n",
    "% `process_items` accumulates statements in a conjunction (`Premises`).\n",
    "% Whenever a question occurs, it answers it with the premises accumulated so far.\n",
    "\n",
    "% No sentences left -> Done\n",
    "process_items Premises [].\n",
    "\n",
    "% A question -> answer it\n",
    "process_items Premises [Head|Tail] :-\n",
    "    glif.getLog Head (question X), !,   % process questions\n",
    "    glif.getStr Head S, print S,        % print the question for reference\n",
    "    answer Premises X,\n",
    "    process_items Premises Tail.        % answer remaining questions\n",
    "\n",
    "% A statement that leads to a contradiction -> point out the contradiction and stop\n",
    "process_items Premises [Head|Tail] :-\n",
    "    glif.getLog Head (statement X),\n",
    "    p (imp (and Premises X) falsum), !,\n",
    "    glif.getStr Head S, print S,        % print the statement for reference\n",
    "    print \"... That doesn't make any sense... I'll stop listening now!\".\n",
    "\n",
    "% A statement -> add it to the premises\n",
    "process_items Premises [Head|Tail] :-\n",
    "    glif.getLog Head (statement X),\n",
    "    glif.getStr Head S, print S,        % print the statement for reference\n",
    "    process_items (and Premises X) Tail.% add to premises and answer remaining questions\n",
    "\n",
    "% the apply command will be called by GLIF.\n",
    "apply Items :-\n",
    "    process_items truth Items."
   ]
  },
  {
   "cell_type": "markdown",
   "metadata": {},
   "source": [
    "## Let's try it out"
   ]
  },
  {
   "cell_type": "code",
   "execution_count": 23,
   "metadata": {},
   "outputs": [
    {
     "data": {
      "text/html": [
       "<div class=\"glif-stdout\"><span>John loves Mary .<br/>does John love Mary ?<br/>&nbsp;&nbsp;⟶ Yes!<br/></span></div>"
      ]
     },
     "metadata": {},
     "output_type": "display_data"
    }
   ],
   "source": [
    "p \"John loves Mary .\" \"does John love Mary ?\" | construct | apply -all -notc"
   ]
  },
  {
   "cell_type": "code",
   "execution_count": 24,
   "metadata": {},
   "outputs": [
    {
     "data": {
      "text/html": [
       "<div class=\"glif-stdout\"><span>John doesn&#x27;t love Mary .<br/>does John love Mary ?<br/>&nbsp;&nbsp;⟶ No!<br/></span></div>"
      ]
     },
     "metadata": {},
     "output_type": "display_data"
    }
   ],
   "source": [
    "p \"John doesn't love Mary .\" \"does John love Mary ?\" | construct | apply -all -notc"
   ]
  },
  {
   "cell_type": "code",
   "execution_count": 25,
   "metadata": {},
   "outputs": [
    {
     "data": {
      "text/html": [
       "<div class=\"glif-stdout\"><span>John knows that Mary loves Eve .<br/>does Mary love Eve ?<br/>&nbsp;&nbsp;⟶ Yes!<br/></span></div>"
      ]
     },
     "metadata": {},
     "output_type": "display_data"
    }
   ],
   "source": [
    "p \"John knows that Mary loves Eve .\" \"does Mary love Eve ?\" | construct | apply -all -notc"
   ]
  },
  {
   "cell_type": "code",
   "execution_count": 26,
   "metadata": {},
   "outputs": [
    {
     "data": {
      "text/html": [
       "<div class=\"glif-stdout\"><span>John loves Eve .<br/>does John love Mary ?<br/>&nbsp;&nbsp;⟶ Unknown...<br/></span></div>"
      ]
     },
     "metadata": {},
     "output_type": "display_data"
    }
   ],
   "source": [
    "p \"John loves Eve .\" \"does John love Mary ?\" | construct | apply -all -notc"
   ]
  },
  {
   "cell_type": "code",
   "execution_count": 27,
   "metadata": {},
   "outputs": [
    {
     "data": {
      "text/html": [
       "<div class=\"glif-stdout\"><span>John loves Mary .<br/>does John love Mary ?<br/>&nbsp;&nbsp;⟶ Yes!<br/></span></div>"
      ]
     },
     "metadata": {},
     "output_type": "display_data"
    },
    {
     "data": {
      "text/html": [
       "<hr class=\"glif-sep\"/>"
      ]
     },
     "metadata": {},
     "output_type": "display_data"
    },
    {
     "data": {
      "text/html": [
       "<div class=\"glif-stdout\"><span>John loves Mary .<br/>John doesn&#x27;t love Mary .<br/>... That doesn&#x27;t make any sense... I&#x27;ll stop listening now!<br/></span></div>"
      ]
     },
     "metadata": {},
     "output_type": "display_data"
    },
    {
     "data": {
      "text/html": [
       "<hr class=\"glif-sep\"/>"
      ]
     },
     "metadata": {},
     "output_type": "display_data"
    },
    {
     "data": {
      "text/html": [
       "<div class=\"glif-stdout\"><span>John loves Eve .<br/>does John love Mary ?<br/>&nbsp;&nbsp;⟶ Unknown...<br/></span></div>"
      ]
     },
     "metadata": {},
     "output_type": "display_data"
    }
   ],
   "source": [
    "p \"John loves Mary .\" \"does John love Mary ?\" | construct | apply -all -notc\n",
    "p \"John loves Mary .\" \"John doesn't love Mary .\" \"does John love Mary ?\" | construct | apply -all -notc\n",
    "p \"John loves Eve .\" \"does John love Mary ?\" | construct | apply -all -notc"
   ]
  },
  {
   "cell_type": "code",
   "execution_count": 28,
   "metadata": {
    "scrolled": true
   },
   "outputs": [
    {
     "data": {
      "text/html": [
       "<div class=\"glif-stdout\"><span>!⟦john⟧(⟦mary⟧(havedog ping))∨⟦eve⟧(havedog ping)</span><br/><span>!¬((⟦mary⟧(havedog ping))∨⟦mary⟧¬(havedog ping))</span><br/><span>?(⟦eve⟧(havedog ping))∨⟦eve⟧¬(havedog ping)</span></div>"
      ]
     },
     "metadata": {},
     "output_type": "display_data"
    },
    {
     "data": {
      "text/html": [
       "<hr class=\"glif-sep\"/>"
      ]
     },
     "metadata": {},
     "output_type": "display_data"
    },
    {
     "data": {
      "text/html": [
       "<div class=\"glif-stdout\"><span>John knows that Mary or Eve knows that Ping has a dog .<br/>Mary doesn&#x27;t know if Ping has a dog .<br/>does Eve know if Ping has a dog ?<br/>&nbsp;&nbsp;⟶ Yes!<br/></span></div>"
      ]
     },
     "metadata": {},
     "output_type": "display_data"
    }
   ],
   "source": [
    "-- The example from the introduction\n",
    "p \"John knows that Mary or Eve knows that Ping has a dog .\" \"Mary doesn't know if Ping has a dog .\" \"does Eve know if Ping has a dog ?\" | construct\n",
    "p \"John knows that Mary or Eve knows that Ping has a dog .\" \"Mary doesn't know if Ping has a dog .\" \"does Eve know if Ping has a dog ?\" | construct | apply -all -notc"
   ]
  }
 ],
 "metadata": {
  "kernelspec": {
   "display_name": "GLIF",
   "language": "glif",
   "name": "glif"
  },
  "language_info": {
   "codemirror_mode": {
    "name": "glif"
   },
   "file_extension": ".glif",
   "mimetype": "text/glif",
   "name": "GLIF"
  }
 },
 "nbformat": 4,
 "nbformat_minor": 4
}
