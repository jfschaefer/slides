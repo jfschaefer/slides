{
 "cells": [
  {
   "cell_type": "markdown",
   "metadata": {},
   "source": [
    "# Answering Epistemic Questions\n",
    "\n",
    "In this case study, we use GLIF to answer yes/no question that require handling the knowledge of different people.\n",
    "For example, given the input\n",
    "\n",
    "    John knows that Mary or Eve knows that Ping hs a dog.\n",
    "    Mary doesn't know if Ping has a dog.\n",
    "    Does Eve know if Ping has a dog?\n",
    "    \n",
    "the system should reply *\"Yes\"*."
   ]
  },
  {
   "cell_type": "code",
   "execution_count": 1,
   "metadata": {},
   "outputs": [
    {
     "data": {
      "text/html": [
       "<span class=\"glif-stdout\">Successfully changed archive</span>"
      ]
     },
     "metadata": {},
     "output_type": "display_data"
    }
   ],
   "source": [
    "archive tmpGLIF/examples epistemic"
   ]
  },
  {
   "cell_type": "markdown",
   "metadata": {},
   "source": [
    "## Grammar\n",
    "\n",
    "This case study was created for an older version of GLIF that didn't support multi-sentence input.\n",
    "Therefore, a sequence of statements followed by a question is parsed into a single AST (cat `QSeq`)."
   ]
  },
  {
   "cell_type": "code",
   "execution_count": 2,
   "metadata": {},
   "outputs": [
    {
     "data": {
      "text/html": [
       "<span class=\"glif-stdout\">Successfully imported Epistemic.gf</span>"
      ]
     },
     "metadata": {},
     "output_type": "display_data"
    }
   ],
   "source": [
    "abstract Epistemic = {\n",
    "    cat\n",
    "        S;\n",
    "        SSeq;\n",
    "        QSeq;\n",
    "        Cl;\n",
    "        Agent;\n",
    "        NP;\n",
    "        VP;\n",
    "        Polarity;\n",
    "    fun\n",
    "        positive, negative : Polarity;\n",
    "        \n",
    "        makeS : Polarity -> Cl -> S;\n",
    "        simpleCl : NP -> VP -> Cl;\n",
    "        knowCl : NP -> S -> Cl;\n",
    "        knowWhetherCl : NP -> Cl -> Cl;\n",
    "        \n",
    "        makeQSeq : SSeq -> Cl -> QSeq;\n",
    "        makeSSeq : SSeq;\n",
    "        append : SSeq -> S -> SSeq;\n",
    "    \n",
    "        npify : Agent -> NP;\n",
    "        and : NP -> NP -> NP;\n",
    "        or : NP -> NP -> NP;\n",
    "        \n",
    "        john, mary, eve, ping : Agent;\n",
    "        have_cat, have_dog : VP;\n",
    "        love, hate : NP -> VP;\n",
    "}"
   ]
  },
  {
   "cell_type": "code",
   "execution_count": 3,
   "metadata": {},
   "outputs": [
    {
     "data": {
      "text/html": [
       "<span class=\"glif-stdout\">Successfully imported EpistemicEng.gf</span>"
      ]
     },
     "metadata": {},
     "output_type": "display_data"
    }
   ],
   "source": [
    "concrete EpistemicEng of Epistemic = open SyntaxEng, ParadigmsEng, ParamX in {\n",
    "  lincat\n",
    "    S = S;\n",
    "    SSeq = Str;\n",
    "    QSeq = Str;\n",
    "    Cl = Cl;\n",
    "    Agent = PN;\n",
    "    NP = NP;\n",
    "    VP = VP;\n",
    "    Polarity = Pol;\n",
    "    \n",
    "  lin\n",
    "    positive = positivePol;\n",
    "    negative = negativePol;\n",
    "    \n",
    "    makeS pol cl = mkS pol cl;\n",
    "    simpleCl p v = mkCl p v;\n",
    "    knowCl p s = mkCl p (mkVS (mkV \"know\")) s;\n",
    "    knowWhetherCl np cl = mkCl np (mkVP (mkVQ (mkV \"know\")) (mkQS (mkQCl cl)));\n",
    "    makeQSeq sseq cl = sseq ++ (mkQS cl).s ! QDir ++ \"?\";\n",
    "    makeSSeq = \"\";\n",
    "    append sseq s = sseq ++ s.s ++ \".\";\n",
    "    npify a = mkNP a;\n",
    "    and a b = mkNP and_Conj a b;\n",
    "    or a b = mkNP or_Conj a b;\n",
    "    john = mkPN \"John\";\n",
    "    mary = mkPN \"Mary\";\n",
    "    eve = mkPN \"Eve\";\n",
    "    ping = mkPN \"Ping\";\n",
    "    have_cat = mkVP have_V2 (mkNP aSg_Det (mkN \"cat\"));\n",
    "    have_dog = mkVP have_V2 (mkNP aSg_Det (mkN \"dog\"));\n",
    "    love p = mkVP (mkV2 (mkV \"love\")) p;\n",
    "    hate p = mkVP (mkV2 (mkV \"hate\")) p;\n",
    "}"
   ]
  },
  {
   "cell_type": "code",
   "execution_count": 4,
   "metadata": {},
   "outputs": [
    {
     "data": {
      "text/html": [
       "<span class=\"glif-stdout\">Mary or Ping doesn&#x27;t hate John</span><br/><span class=\"glif-stdout\">Ping and Ping know if Eve has a dog</span><br/><span class=\"glif-stdout\">John knows if Eve has a dog</span><br/><span class=\"glif-stdout\">John or John has a dog</span><br/><span class=\"glif-stdout\">Eve doesn&#x27;t know if Ping has a cat</span>"
      ]
     },
     "metadata": {},
     "output_type": "display_data"
    }
   ],
   "source": [
    "-- some random sentences\n",
    "gr -number=5 -cat=S | l"
   ]
  },
  {
   "cell_type": "code",
   "execution_count": 5,
   "metadata": {},
   "outputs": [
    {
     "data": {
      "text/html": [
       "<span class=\"glif-stdout\">do Eve and Eve or Mary or Ping have a cat ?</span><br/><span class=\"glif-stdout\">John doesn&#x27;t have a cat . do John and Eve or Mary and Mary know that John has a cat ?</span><br/><span class=\"glif-stdout\">Ping has a cat . does Eve know if Mary or John loves Mary ?</span><br/><span class=\"glif-stdout\">do Eve and John or John know if John and Mary know if John has a dog ?</span><br/><span class=\"glif-stdout\">do Ping and Ping and Mary know if Eve knows if Ping has a dog ?</span>"
      ]
     },
     "metadata": {},
     "output_type": "display_data"
    }
   ],
   "source": [
    "gr -number=5 -cat=QSeq -depth=5 | l"
   ]
  },
  {
   "cell_type": "markdown",
   "metadata": {},
   "source": [
    "## Logic\n",
    "\n",
    "We need a multi-modal logic (S5n).For example, *John knows that Mary loves Eve* would be represented as\n",
    "\n",
    "    ⟦john⟧(love mary eve)"
   ]
  },
  {
   "cell_type": "code",
   "execution_count": 6,
   "metadata": {},
   "outputs": [
    {
     "data": {
      "text/html": [
       "<span class=\"glif-stdout\">Successfully imported proplog.mmt</span>"
      ]
     },
     "metadata": {},
     "output_type": "display_data"
    }
   ],
   "source": [
    "theory proplog : ur:?LF =\n",
    "    proposition : type ❘ # o ❙\n",
    "    true : o ❙\n",
    "    neg : o ⟶ o ❘ # ¬ 1 prec 80 ❙\n",
    "    and : o ⟶ o ⟶ o ❘ # 1 ∧ 2 prec 60 ❙\n",
    "    or : o ⟶ o ⟶ o ❘ # 1 ∨ 2 prec 50 ❙\n",
    "    imp : o ⟶ o ⟶ o ❘ # 1 ⇒ 2 prec 40 ❙\n",
    "❚ "
   ]
  },
  {
   "cell_type": "code",
   "execution_count": 7,
   "metadata": {},
   "outputs": [
    {
     "data": {
      "text/html": [
       "<span class=\"glif-stdout\">Successfully imported epistemic.mmt</span>"
      ]
     },
     "metadata": {},
     "output_type": "display_data"
    }
   ],
   "source": [
    "theory epistemic : ur:?LF =\n",
    "    include ?proplog ❙\n",
    "    agent : type ❘ # ι ❙\n",
    "    box : ι ⟶ o ⟶ o ❘ # ⟦ 1 ⟧ 2 prec 10 ❙\n",
    "    dia : ι ⟶ o ⟶ o ❘ # ⟪ 1 ⟫ 2 prec 10 ❙\n",
    "❚"
   ]
  },
  {
   "cell_type": "code",
   "execution_count": 8,
   "metadata": {},
   "outputs": [
    {
     "data": {
      "text/html": [
       "<span class=\"glif-stdout\">Successfully imported questions.mmt</span>"
      ]
     },
     "metadata": {},
     "output_type": "display_data"
    }
   ],
   "source": [
    "theory questions : ur:?LF =\n",
    "    include ?proplog ❙\n",
    "    question : type ❙\n",
    "    ask : o ⟶ o ⟶ question ❘ # 1 ?⊢? 2 ❙     // ask premise conclusion ❙\n",
    "❚"
   ]
  },
  {
   "cell_type": "code",
   "execution_count": 9,
   "metadata": {},
   "outputs": [
    {
     "data": {
      "text/html": [
       "<span class=\"glif-stdout\">Successfully imported epistemicDDT.mmt</span>"
      ]
     },
     "metadata": {},
     "output_type": "display_data"
    }
   ],
   "source": [
    "theory epistemicDDT : ?epistemic =\n",
    "    include ?questions ❙\n",
    "    john : ι ❙\n",
    "    mary : ι ❙\n",
    "    eve : ι ❙\n",
    "    ping : ι ❙\n",
    "    havedog : ι ⟶ o ❙\n",
    "    havecat : ι ⟶ o ❙\n",
    "    love : ι ⟶ ι ⟶ o ❙\n",
    "    hate : ι ⟶ ι ⟶ o ❙\n",
    "❚"
   ]
  },
  {
   "cell_type": "code",
   "execution_count": 10,
   "metadata": {},
   "outputs": [
    {
     "data": {
      "text/html": [
       "<span class=\"glif-stdout\">Successfully imported EpistemicSemantics.mmt</span>"
      ]
     },
     "metadata": {},
     "output_type": "display_data"
    }
   ],
   "source": [
    "view EpistemicSemantics : http://mathhub.info/tmpGLIF/examples/epistemic/Epistemic.gf?Epistemic -> ?epistemicDDT =\n",
    "    S = o ❙\n",
    "    SSeq = o ❙\n",
    "    QSeq = question ❙\n",
    "    Cl = o ❙\n",
    "    Agent = ι ❙\n",
    "    NP = (ι ⟶ o) ⟶ o ❙\n",
    "    VP = ι ⟶ o ❙\n",
    "    Polarity = o ⟶ o ❙\n",
    "\n",
    "    positive = [a] a ❙\n",
    "    negative = [a] ¬ a ❙\n",
    "    makeS = [pol,cl] pol cl ❙\n",
    "    simpleCl = [np,vp] np vp ❙\n",
    "    knowCl = [np,s] np ([x] ⟦ x ⟧ s) ❙\n",
    "    knowWhetherCl = [np,cl] (np ([x] ⟦ x ⟧ cl)) ∨ (np ([x] ⟦ x ⟧ ¬ cl)) ❙\n",
    "    makeQSeq = [sseq,cl] ask sseq cl ❙\n",
    "    makeSSeq = true ❙\n",
    "    append = [sseq,s] sseq ∧ s ❙\n",
    "    npify = [x] [p] p x ❙\n",
    "    and = [a,b] [p] (a p) ∧ (b p) ❙    // and : NP ⟶ NP ⟶ NP ❙\n",
    "    or = [a,b] [p] (a p) ∨ (b p) ❙\n",
    "    john = john ❙\n",
    "    mary = mary ❙\n",
    "    eve = eve ❙\n",
    "    ping = ping ❙\n",
    "    have_cat = havecat ❙\n",
    "    have_dog = havedog ❙\n",
    "    love = [np] [x] np (love x) ❙\n",
    "    hate = [np] [x] np (hate x) ❙\n",
    "❚"
   ]
  },
  {
   "cell_type": "code",
   "execution_count": 11,
   "metadata": {},
   "outputs": [
    {
     "data": {
      "text/html": [
       "<span class=\"glif-stdout\">⟦john⟧(havedog mary)</span>"
      ]
     },
     "metadata": {},
     "output_type": "display_data"
    }
   ],
   "source": [
    "-- Let's try it out\n",
    "p \"John knows that Mary has a dog\" | construct"
   ]
  },
  {
   "cell_type": "code",
   "execution_count": 12,
   "metadata": {},
   "outputs": [
    {
     "data": {
      "text/html": [
       "<span class=\"glif-stdout\">⟦john⟧¬⟦mary⟧(havedog eve)</span>"
      ]
     },
     "metadata": {},
     "output_type": "display_data"
    }
   ],
   "source": [
    "p \"John knows that Mary doesn't know that Eve has a dog\" | construct"
   ]
  },
  {
   "cell_type": "code",
   "execution_count": 13,
   "metadata": {},
   "outputs": [
    {
     "data": {
      "text/html": [
       "<span class=\"glif-stdout\">(⟦john⟧(havedog mary))∨⟦john⟧¬(havedog mary)</span>"
      ]
     },
     "metadata": {},
     "output_type": "display_data"
    }
   ],
   "source": [
    "p \"John knows if Mary has a dog\" | construct"
   ]
  },
  {
   "cell_type": "code",
   "execution_count": 14,
   "metadata": {},
   "outputs": [
    {
     "data": {
      "text/html": [
       "<span class=\"glif-stdout\">(true∧(havedog john))∧(havedog mary)?⊢?(havedog eve)</span>"
      ]
     },
     "metadata": {},
     "output_type": "display_data"
    }
   ],
   "source": [
    "-- Let's also try out a sequence of statements followed by a question\n",
    "p -cat=QSeq \"John has a dog . Mary has a dog . does Eve have a dog ?\" | construct"
   ]
  },
  {
   "cell_type": "markdown",
   "metadata": {},
   "source": [
    "## Inference\n",
    "\n",
    "For the inference, we need an S5n prover, which was adapted from: *de Boer, M. S. (2006). Praktische Bewĳzen in Public Announcement Logica*.\n",
    "\n",
    "If we have premises (statements) P1, ..., Pn and a question Q, then we want to reply\n",
    "* **yes** if P1 ∧ ... ∧ Pn ⊢ Q (and not P1 ∧ ... ∧ Pn ⊢ ⊥)\n",
    "* **no** if P1 ∧ ... ∧ Pn ⊢ ¬Q\n",
    "* **That doesn't make sense** if P1 ∧ ... ∧ Pn ⊢ ⊥ (i.e. the premises are inconsistent)\n",
    "* **Maybe** otherwise"
   ]
  },
  {
   "cell_type": "code",
   "execution_count": 15,
   "metadata": {},
   "outputs": [
    {
     "data": {
      "text/html": [
       "<span class=\"glif-stdout\">Successfully imported util.elpi</span><br/><span class=\"glif-stdout\">util.elpi is the new default file for ELPI commands</span>"
      ]
     },
     "metadata": {},
     "output_type": "display_data"
    }
   ],
   "source": [
    "elpi-notc: util\n",
    "\n",
    "% the original prover was implemented in normal Prolog, so we need some helper predicates.\n",
    "\n",
    "select A [A] [] :- !.\n",
    "select A [A|L] L.\n",
    "select A [X|T] [X|R] :- select A T R.\n",
    "\n",
    "freeze X f :- var X, !, declare_constraint (f X) [X].\n",
    "freeze X f :- f X.\n",
    "\n",
    "member X [X|_] :- !.\n",
    "member X [_|L] :- member X L."
   ]
  },
  {
   "cell_type": "code",
   "execution_count": 16,
   "metadata": {},
   "outputs": [
    {
     "data": {
      "text/html": [
       "<span class=\"glif-stdout\">Successfully imported s5npal.elpi</span><br/><span class=\"glif-stdout\">s5npal.elpi is the new default file for ELPI commands</span>"
      ]
     },
     "metadata": {},
     "output_type": "display_data"
    }
   ],
   "source": [
    "elpi-notc: s5npal\n",
    "\n",
    "accumulate util.\n",
    "\n",
    "% Adapted from: de Boer, M. S. (2006). Praktische Bewĳzen in Public Announcement Logica.\n",
    "\n",
    "p F :- prove [l [] (neg F)] [], !.\n",
    "\n",
    "prove [LFml|Fs] Branch :- \n",
    "    (ruleOne LFml _tpe NLF, !, prove [NLF|Fs] Branch);\n",
    "    (ruleTwo LFml conj A B, !, prove [A,B|Fs] Branch).\n",
    "prove [l L Fml|Fs] Branch :-\n",
    "    (Fml = neg Neg; Neg = neg Fml),\n",
    "    (memberunify (l L Neg) Branch; prove Fs [l L Fml | Branch]), !.\n",
    "prove [] Branch :-\n",
    "    select (l Label Fml) Branch RestB,\n",
    "    ruleTwo (l _ Fml) disj (l _ A) (l _ B),\n",
    "    expand Label Inst M _,\n",
    "    (Label = l _ L; Label = L), !,\n",
    "    prove [l M A] [l (l Inst L) Fml|RestB],\n",
    "    prove [l M B] [l (l Inst L) Fml|RestB].\n",
    "\n",
    "expand (l [[X|Xs]|Xss] [star I|Ls]) [[X|Xs]|Yss] [l X I|Ms] G :-\n",
    "    var X, !,\n",
    "    expand (l Xss Ls) Yss Ms G.\n",
    "expand (l [Xs|Xss] [star I|Ls]) [[X|Xs]|Yss] [l X I|Ms] _ :- !,\n",
    "    freeze X (x \\ not (member X Xs)),\n",
    "    expand (l Xss Ls) Yss Ms true.\n",
    "expand (l Xss [C|Ls]) Yss [C|Ms] G :- !,\n",
    "    expand (l Xss Ls) Yss Ms G.\n",
    "expand (l [] []) [] [] G :-\n",
    "    not (var G).\n",
    "expand [star I|Ls] [[X]|Xss] [l X I|Ms] _ :- !,\n",
    "    expand Ls Xss Ms _.\n",
    "expand [L|Ls] Xss [L|Ms] _ :- !,\n",
    "    expand Ls Xss Ms _.\n",
    "expand [] [] [] _.\n",
    "\n",
    "memberunify (l L A) Ls :-\n",
    "    member (l K A) Ls,\n",
    "    red O L [],\n",
    "    red O K [], !.\n",
    "\n",
    "red O [l _ I|L] [l X I|R] :- !,\n",
    "    red O L [l X I|R].\n",
    "red O L [l O _|R] :-\n",
    "    red O L R.\n",
    "red O L [star I|R] :- !,\n",
    "    red O L [l _ I|R].\n",
    "red O [X|L] R :- !,\n",
    "    red O L [X|R].\n",
    "red O [] O.\n",
    "\n",
    "ruleTwo (l L (and A B)) conj (l L A) (l L B).\n",
    "ruleTwo (l L (neg (imp A B))) conj (l L A) (l L (neg B)).\n",
    "ruleTwo (l L (neg (or A B))) conj (l L (neg A)) (l L (neg B)).\n",
    "ruleTwo (l L (or A B)) disj (l L A) (l L B).\n",
    "ruleTwo (l L (imp A B)) disj (l L (neg A)) (l L B).\n",
    "ruleTwo (l L (neg (and A B))) disj (l L (neg A)) (l L (neg B)).\n",
    "ruleTwo (l L (eq A B)) disj (l L (and A B)) (l L (and (neg A) (neg B))).\n",
    "ruleTwo (l L (neg (eq A B))) disj (l L (and A (neg B))) (l L (and (neg A) B)).\n",
    "\n",
    "ruleOne (l L (neg (bra F))) doub (l L (neg F)).\n",
    "ruleOne (l L (bra F)) doub (l L F).\n",
    "ruleOne (l L (neg (neg F))) doub (l L F).\n",
    "\n",
    "ruleOne (l [l _ I|L] (box I F)) know (l [star I|L] F).\n",
    "ruleOne (l [l _ I|L] (neg (dia I F))) know (l [star I|L] (neg F)).\n",
    "ruleOne (l [star I|L] (box I F)) know (l [star I|L] F).\n",
    "ruleOne (l [star I|L] (neg (dia I F))) know (l [star I|L] (neg F)).\n",
    "ruleOne (l L (box I F)) know (l [star I|L] F).\n",
    "ruleOne (l L (neg (dia I F))) know (l [star I|L] (neg F)).\n",
    "\n",
    "ruleOne (l [l _ I|L] (dia I F)) poss (l [l F I|L] F).\n",
    "ruleOne (l [l _ I|L] (neg (bos I F))) poss (l [l F I|L] (neg F)).\n",
    "ruleOne (l [star I|L] (dia I F)) poss (l [l F I|L] F).\n",
    "ruleOne (l [star I|L] (neg (bos I F))) poss (l [l (neg F) I|L] (neg F)).\n",
    "ruleOne (l L (dia I F)) poss (l [l F I|L] F).\n",
    "ruleOne (l L (neg (box I F))) poss (l [l (neg F) I|L] (neg F))."
   ]
  },
  {
   "cell_type": "code",
   "execution_count": 17,
   "metadata": {},
   "outputs": [
    {
     "data": {
      "text/html": [
       "<span class=\"glif-stdout\">Successfully created epistemicDDT.elpi</span>"
      ]
     },
     "metadata": {},
     "output_type": "display_data"
    }
   ],
   "source": [
    "-- generate ELPI signatures for discourse domain theory and the grammar\n",
    "elpigen -mode=types epistemicDDT"
   ]
  },
  {
   "cell_type": "code",
   "execution_count": 18,
   "metadata": {},
   "outputs": [
    {
     "data": {
      "text/html": [
       "<span class=\"glif-stdout\">Successfully imported answerer.elpi</span><br/><span class=\"glif-stdout\">answerer.elpi is the new default file for ELPI commands</span>"
      ]
     },
     "metadata": {},
     "output_type": "display_data"
    }
   ],
   "source": [
    "elpi-notc: answerer\n",
    "\n",
    "accumulate s5npal.\n",
    "accumulate epistemicDDT.\n",
    "\n",
    "answer (ask Premises _) :-\n",
    "    p (imp Premises falsum), !, print \"That doesn't make sense!\".\n",
    "answer (ask Premises Conclusion) :-\n",
    "    p (imp Premises Conclusion), !, print \"Yes!\".\n",
    "answer (ask Premises Conclusion) :-\n",
    "    p (imp Premises (neg Conclusion)), !, print \"No!\".\n",
    "answer (ask _ _) :- !, print \"Maybe...\".\n",
    "answer X :- print \"Bad term:\" X.\n",
    "\n",
    "% we will use the apply command\n",
    "apply Item :-\n",
    "    glif.getStr Item S, print S,\n",
    "    glif.getLog Item Content,    % extract the logical representation from the item\n",
    "    answer Content."
   ]
  },
  {
   "cell_type": "markdown",
   "metadata": {},
   "source": [
    "# Examples"
   ]
  },
  {
   "cell_type": "code",
   "execution_count": 19,
   "metadata": {},
   "outputs": [
    {
     "data": {
      "text/html": [
       "<span class=\"glif-stdout\">John knows that Ping has a dog . does Ping have a dog ?<br/>Yes!<br/></span>"
      ]
     },
     "metadata": {},
     "output_type": "display_data"
    }
   ],
   "source": [
    "p -cat=QSeq \"John knows that Ping has a dog . does Ping have a dog ?\" | construct | apply -notc"
   ]
  },
  {
   "cell_type": "code",
   "execution_count": 20,
   "metadata": {},
   "outputs": [
    {
     "data": {
      "text/html": [
       "<span class=\"glif-stdout\">John has a dog . does John know that John has a dog ?<br/>Maybe...<br/></span>"
      ]
     },
     "metadata": {},
     "output_type": "display_data"
    }
   ],
   "source": [
    "p -cat=QSeq \"John has a dog . does John know that John has a dog ?\" | construct | apply -notc"
   ]
  },
  {
   "cell_type": "code",
   "execution_count": 21,
   "metadata": {},
   "outputs": [
    {
     "data": {
      "text/html": [
       "<span class=\"glif-stdout\">(true∧⟦john⟧(⟦mary⟧(havedog ping))∨⟦eve⟧(havedog ping))∧¬((⟦mary⟧(havedog ping))∨⟦mary⟧¬(havedog ping))?⊢?(⟦eve⟧(havedog ping))∨⟦eve⟧¬(havedog ping)</span>"
      ]
     },
     "metadata": {},
     "output_type": "display_data"
    },
    {
     "data": {
      "text/html": [
       "<hr class=\"glif-sep\"/>"
      ]
     },
     "metadata": {},
     "output_type": "display_data"
    },
    {
     "data": {
      "text/html": [
       "<span class=\"glif-stdout\">John knows that Mary or Eve knows that Ping has a dog . Mary doesn&#x27;t know if Ping has a dog . does Eve know if Ping has a dog ?<br/>Yes!<br/></span>"
      ]
     },
     "metadata": {},
     "output_type": "display_data"
    }
   ],
   "source": [
    "-- The example from the introduction\n",
    "p -cat=QSeq \"John knows that Mary or Eve knows that Ping has a dog . Mary doesn't know if Ping has a dog . does Eve know if Ping has a dog ?\" | construct\n",
    "p -cat=QSeq \"John knows that Mary or Eve knows that Ping has a dog . Mary doesn't know if Ping has a dog . does Eve know if Ping has a dog ?\" | construct | apply -notc"
   ]
  },
  {
   "cell_type": "code",
   "execution_count": 22,
   "metadata": {},
   "outputs": [
    {
     "data": {
      "text/html": [
       "<span class=\"glif-stdout\">John doesn&#x27;t love Mary . does John love Mary ?<br/>No!<br/></span>"
      ]
     },
     "metadata": {},
     "output_type": "display_data"
    },
    {
     "data": {
      "text/html": [
       "<hr class=\"glif-sep\"/>"
      ]
     },
     "metadata": {},
     "output_type": "display_data"
    },
    {
     "data": {
      "text/html": [
       "<span class=\"glif-stdout\">John loves Mary . does John love Mary ?<br/>Yes!<br/></span>"
      ]
     },
     "metadata": {},
     "output_type": "display_data"
    },
    {
     "data": {
      "text/html": [
       "<hr class=\"glif-sep\"/>"
      ]
     },
     "metadata": {},
     "output_type": "display_data"
    },
    {
     "data": {
      "text/html": [
       "<span class=\"glif-stdout\">John loves Mary . John doesn&#x27;t love Mary . does John love Mary ?<br/>That doesn&#x27;t make sense!<br/></span>"
      ]
     },
     "metadata": {},
     "output_type": "display_data"
    },
    {
     "data": {
      "text/html": [
       "<hr class=\"glif-sep\"/>"
      ]
     },
     "metadata": {},
     "output_type": "display_data"
    },
    {
     "data": {
      "text/html": [
       "<span class=\"glif-stdout\">John loves Eve . does John love Mary ?<br/>Maybe...<br/></span>"
      ]
     },
     "metadata": {},
     "output_type": "display_data"
    }
   ],
   "source": [
    "p -cat=QSeq \"John doesn't love Mary . does John love Mary ?\" | construct | apply -notc\n",
    "p -cat=QSeq \"John loves Mary . does John love Mary ?\" | construct | apply -notc\n",
    "p -cat=QSeq \"John loves Mary . John doesn't love Mary . does John love Mary ?\" | construct | apply -notc\n",
    "p -cat=QSeq \"John loves Eve . does John love Mary ?\" | construct | apply -notc"
   ]
  },
  {
   "cell_type": "markdown",
   "metadata": {},
   "source": [
    "## And many more examples..."
   ]
  },
  {
   "cell_type": "code",
   "execution_count": 23,
   "metadata": {},
   "outputs": [
    {
     "data": {
      "text/html": [
       "<span class=\"glif-stdout\">John doesn&#x27;t love Mary . does John love Mary ?<br/>No!<br/></span>"
      ]
     },
     "metadata": {},
     "output_type": "display_data"
    }
   ],
   "source": [
    "p -cat=QSeq \"John doesn't love Mary . does John love Mary ?\" | construct | apply -notc"
   ]
  },
  {
   "cell_type": "code",
   "execution_count": 24,
   "metadata": {},
   "outputs": [
    {
     "data": {
      "text/html": [
       "<span class=\"glif-stdout\">John knows that Mary has a dog . does Mary have a dog ?<br/>Yes!<br/></span>"
      ]
     },
     "metadata": {},
     "output_type": "display_data"
    }
   ],
   "source": [
    "p -cat=QSeq \"John knows that Mary has a dog . does Mary have a dog ?\" | construct | apply -notc"
   ]
  },
  {
   "cell_type": "code",
   "execution_count": 25,
   "metadata": {},
   "outputs": [
    {
     "data": {
      "text/html": [
       "<span class=\"glif-stdout\">Mary has a dog . does John know that Mary has a dog ?<br/>Maybe...<br/></span>"
      ]
     },
     "metadata": {},
     "output_type": "display_data"
    }
   ],
   "source": [
    "p -cat=QSeq \"Mary has a dog . does John know that Mary has a dog ?\" | construct | apply -notc"
   ]
  },
  {
   "cell_type": "code",
   "execution_count": 26,
   "metadata": {},
   "outputs": [
    {
     "data": {
      "text/html": [
       "<span class=\"glif-stdout\">John knows that Mary doesn&#x27;t have a dog . does John know if Mary has a dog ?<br/>Yes!<br/></span>"
      ]
     },
     "metadata": {},
     "output_type": "display_data"
    }
   ],
   "source": [
    "p -cat=QSeq \"John knows that Mary doesn't have a dog . does John know if Mary has a dog ?\" | construct | apply -notc"
   ]
  },
  {
   "cell_type": "code",
   "execution_count": 27,
   "metadata": {},
   "outputs": [
    {
     "data": {
      "text/html": [
       "<span class=\"glif-stdout\">Mary doesn&#x27;t have a dog . does John know if Mary has a dog ?<br/>Maybe...<br/></span>"
      ]
     },
     "metadata": {},
     "output_type": "display_data"
    }
   ],
   "source": [
    "p -cat=QSeq \"Mary doesn't have a dog . does John know if Mary has a dog ?\" | construct | apply -notc"
   ]
  },
  {
   "cell_type": "code",
   "execution_count": 28,
   "metadata": {},
   "outputs": [
    {
     "data": {
      "text/html": [
       "<span class=\"glif-stdout\">John knows that Mary or Eve has a dog . Mary doesn&#x27;t have a dog . does Eve have a dog ?<br/>Yes!<br/></span>"
      ]
     },
     "metadata": {},
     "output_type": "display_data"
    }
   ],
   "source": [
    "p -cat=QSeq \"John knows that Mary or Eve has a dog . Mary doesn't have a dog . does Eve have a dog ?\" | construct | apply -notc"
   ]
  },
  {
   "cell_type": "code",
   "execution_count": 29,
   "metadata": {},
   "outputs": [
    {
     "data": {
      "text/html": [
       "<span class=\"glif-stdout\">John knows that Mary or Eve has a dog . Mary doesn&#x27;t have a dog . does John know that Eve has a dog ?<br/>Maybe...<br/></span>"
      ]
     },
     "metadata": {},
     "output_type": "display_data"
    }
   ],
   "source": [
    "p -cat=QSeq \"John knows that Mary or Eve has a dog . Mary doesn't have a dog . does John know that Eve has a dog ?\" | construct | apply -notc"
   ]
  },
  {
   "cell_type": "code",
   "execution_count": 30,
   "metadata": {},
   "outputs": [
    {
     "data": {
      "text/html": [
       "<span class=\"glif-stdout\">John knows that Mary or Eve has a dog . John knows if Eve has a dog . Mary doesn&#x27;t have a dog . does John know that Eve has a dog ?<br/>Yes!<br/></span>"
      ]
     },
     "metadata": {},
     "output_type": "display_data"
    }
   ],
   "source": [
    "p -cat=QSeq \"John knows that Mary or Eve has a dog . John knows if Eve has a dog . Mary doesn't have a dog . does John know that Eve has a dog ?\" | construct | apply -notc"
   ]
  },
  {
   "cell_type": "code",
   "execution_count": 31,
   "metadata": {},
   "outputs": [
    {
     "data": {
      "text/html": [
       "<span class=\"glif-stdout\">John knows that Mary or Eve has a dog . Mary knows that Mary doesn&#x27;t have a dog . does Eve have a dog ?<br/>Yes!<br/></span>"
      ]
     },
     "metadata": {},
     "output_type": "display_data"
    }
   ],
   "source": [
    "p -cat=QSeq \"John knows that Mary or Eve has a dog . Mary knows that Mary doesn't have a dog . does Eve have a dog ?\" | construct | apply -notc"
   ]
  },
  {
   "cell_type": "code",
   "execution_count": 32,
   "metadata": {},
   "outputs": [
    {
     "data": {
      "text/html": [
       "<span class=\"glif-stdout\">John knows that Mary or Eve has a dog . John knows that Mary knows that Mary doesn&#x27;t have a dog . does John know that Eve has a dog ?<br/>Maybe...<br/></span>"
      ]
     },
     "metadata": {},
     "output_type": "display_data"
    }
   ],
   "source": [
    "p -cat=QSeq \"John knows that Mary or Eve has a dog . John knows that Mary knows that Mary doesn't have a dog . does John know that Eve has a dog ?\" | construct | apply -notc"
   ]
  },
  {
   "cell_type": "code",
   "execution_count": 33,
   "metadata": {},
   "outputs": [
    {
     "data": {
      "text/html": [
       "<span class=\"glif-stdout\">John knows that Mary or Eve has a dog . John knows that Mary doesn&#x27;t have a dog . does John know that Eve has a dog ?<br/>Maybe...<br/></span>"
      ]
     },
     "metadata": {},
     "output_type": "display_data"
    }
   ],
   "source": [
    "p -cat=QSeq \"John knows that Mary or Eve has a dog . John knows that Mary doesn't have a dog . does John know that Eve has a dog ?\" | construct | apply -notc"
   ]
  },
  {
   "cell_type": "code",
   "execution_count": 34,
   "metadata": {},
   "outputs": [
    {
     "data": {
      "text/html": [
       "<span class=\"glif-stdout\">John knows that Mary or Eve has a dog . John knows that Mary knows that Mary doesn&#x27;t have a dog . does Eve have a dog ?<br/>Yes!<br/></span>"
      ]
     },
     "metadata": {},
     "output_type": "display_data"
    }
   ],
   "source": [
    "p -cat=QSeq \"John knows that Mary or Eve has a dog . John knows that Mary knows that Mary doesn't have a dog . does Eve have a dog ?\" | construct | apply -notc"
   ]
  },
  {
   "cell_type": "code",
   "execution_count": 35,
   "metadata": {},
   "outputs": [
    {
     "data": {
      "text/html": [
       "<span class=\"glif-stdout\">John knows that Mary or Eve knows that Eve has a dog . does John know that Eve has a dog ?<br/>Yes!<br/></span>"
      ]
     },
     "metadata": {},
     "output_type": "display_data"
    }
   ],
   "source": [
    "p -cat=QSeq \"John knows that Mary or Eve knows that Eve has a dog . does John know that Eve has a dog ?\" | construct | apply -notc"
   ]
  },
  {
   "cell_type": "code",
   "execution_count": 36,
   "metadata": {},
   "outputs": [
    {
     "data": {
      "text/html": [
       "<span class=\"glif-stdout\">John knows that Mary or Eve knows that Ping has a dog . Mary doesn&#x27;t know if Ping has a dog . does Eve know if Ping has a dog ?<br/>Yes!<br/></span>"
      ]
     },
     "metadata": {},
     "output_type": "display_data"
    }
   ],
   "source": [
    "p -cat=QSeq \"John knows that Mary or Eve knows that Ping has a dog . Mary doesn't know if Ping has a dog . does Eve know if Ping has a dog ?\" | construct | apply -notc"
   ]
  }
 ],
 "metadata": {
  "kernelspec": {
   "display_name": "GLIF",
   "language": "glif",
   "name": "glif"
  },
  "language_info": {
   "file_extension": ".glif",
   "mimetype": "text/glif",
   "name": "GLIF"
  }
 },
 "nbformat": 4,
 "nbformat_minor": 4
}
