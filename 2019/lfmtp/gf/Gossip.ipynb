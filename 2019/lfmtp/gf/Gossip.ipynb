{
 "cells": [
  {
   "cell_type": "code",
   "execution_count": 9,
   "metadata": {},
   "outputs": [
    {
     "data": {
      "text/plain": [
       "Defined Gossip"
      ]
     },
     "metadata": {},
     "output_type": "display_data"
    }
   ],
   "source": [
    "abstract Gossip = {\n",
    "    cat\n",
    "        Actor; Action; Sentence;\n",
    "    fun\n",
    "        everyone : Actor;\n",
    "        someone : Actor;\n",
    "        makeSentence : Actor -> Action -> Sentence;\n",
    "        -- and_Sentence : Sentence -> Sentence -> Sentence;\n",
    "        and : Actor -> Actor -> Actor;\n",
    "}"
   ]
  },
  {
   "cell_type": "code",
   "execution_count": 10,
   "metadata": {},
   "outputs": [
    {
     "data": {
      "text/plain": [
       "Abstract changed, previous concretes discarded.\n"
      ]
     },
     "metadata": {},
     "output_type": "display_data"
    }
   ],
   "source": [
    "abstract GossipLex = Gossip ** {\n",
    "    fun\n",
    "        john, mary : Actor;\n",
    "        run : Action;\n",
    "        be_happy : Action;\n",
    "}"
   ]
  },
  {
   "cell_type": "code",
   "execution_count": 23,
   "metadata": {},
   "outputs": [
    {
     "data": {
      "text/plain": [
       "Defined GossipEng"
      ]
     },
     "metadata": {},
     "output_type": "display_data"
    }
   ],
   "source": [
    "concrete GossipEng of Gossip = {\n",
    "    param\n",
    "        Plurality = Sg | Pl;\n",
    "    lincat\n",
    "        Actor = {s : Str; p : Plurality};\n",
    "        Action = Plurality => Str;\n",
    "        Sentence = Str;\n",
    "    lin\n",
    "        everyone = {s = \"everyone\"; p = Sg};\n",
    "        someone = {s = \"someone\"; p = Sg};\n",
    "        makeSentence actor action = actor.s ++ action ! actor.p;\n",
    "        -- and_Sentence a b = a ++ \"and\" ++ b;\n",
    "        and a b = {s = a.s ++ \"and\" ++ b.s; p = Pl};\n",
    "}"
   ]
  },
  {
   "cell_type": "code",
   "execution_count": 24,
   "metadata": {},
   "outputs": [
    {
     "data": {
      "text/plain": [
       "Abstract changed, previous concretes discarded.\n"
      ]
     },
     "metadata": {},
     "output_type": "display_data"
    }
   ],
   "source": [
    "concrete GossipLexEng of GossipLex = GossipEng ** {\n",
    "    lin\n",
    "        john = {s = \"John\"; p = Sg};\n",
    "        mary = {s = \"Mary\"; p = Sg};\n",
    "        run = table {Sg => \"runs\"; Pl => \"run\"};\n",
    "        be_happy = table {Sg => \"is happy\"; Pl => \"are happy\"};\n",
    "}"
   ]
  },
  {
   "cell_type": "code",
   "execution_count": 13,
   "metadata": {},
   "outputs": [
    {
     "data": {
      "text/plain": [
       "Abstract changed, previous concretes discarded.\n"
      ]
     },
     "metadata": {},
     "output_type": "display_data"
    }
   ],
   "source": [
    "concrete GossipWreng of Gossip = {\n",
    "    lincat\n",
    "        Actor = Str;\n",
    "        Action = Str;\n",
    "        Sentence = Str;\n",
    "    lin\n",
    "        everyone = \"everyone\";\n",
    "        someone = \"someone\";\n",
    "        makeSentence actor action = actor ++ action;\n",
    "        -- and_Sentence a b = a ++ \"and\" ++ b;\n",
    "        and a b = a ++ \"and\" ++ b;\n",
    "}"
   ]
  },
  {
   "cell_type": "code",
   "execution_count": 14,
   "metadata": {},
   "outputs": [
    {
     "data": {
      "text/plain": [
       "Abstract changed, previous concretes discarded.\n"
      ]
     },
     "metadata": {},
     "output_type": "display_data"
    }
   ],
   "source": [
    "concrete GossipLexWreng of GossipLex = GossipWreng ** {\n",
    "    lin\n",
    "        john = \"John\";\n",
    "        mary = \"Mary\";\n",
    "        run = \"runs\";\n",
    "        be_happy = \"is happy\";\n",
    "}"
   ]
  },
  {
   "cell_type": "code",
   "execution_count": 21,
   "metadata": {},
   "outputs": [
    {
     "data": {
      "text/plain": [
       "Abstract changed, previous concretes discarded.\n"
      ]
     },
     "metadata": {},
     "output_type": "display_data"
    }
   ],
   "source": [
    "--# -path=.:/home/jfs/git/github_com/grammaticalframework/gf-rgl/src/english\n",
    "concrete GossipEng3 of Gossip = open SyntaxEng, DictEng in {\n",
    "    lincat\n",
    "        Actor = NP;\n",
    "        Action = VP;\n",
    "        Sentence = S;\n",
    "    lin\n",
    "        everyone = everyone_NP;\n",
    "        someone = someone_NP;\n",
    "        makeSentence actor action = mkS (mkCl actor action);\n",
    "        and a b = mkNP and_Conj a b;\n",
    "}"
   ]
  },
  {
   "cell_type": "code",
   "execution_count": 27,
   "metadata": {},
   "outputs": [
    {
     "data": {
      "text/plain": [
       "Defined GossipLexEng3"
      ]
     },
     "metadata": {},
     "output_type": "display_data"
    }
   ],
   "source": [
    "--# -path=.:/home/jfs/git/github_com/grammaticalframework/gf-rgl/src/english\n",
    "concrete GossipLexEng3 of GossipLex = GossipEng3 ** open SyntaxEng, ParadigmsEng in {\n",
    "    lin\n",
    "        john = mkNP (mkPN \"John\");\n",
    "        mary = mkNP (mkPN \"Mary\");\n",
    "        run = mkVP (mkV \"run\");\n",
    "        be_happy = mkVP (mkA \"happy\");\n",
    "}"
   ]
  },
  {
   "cell_type": "code",
   "execution_count": 31,
   "metadata": {},
   "outputs": [
    {
     "data": {
      "text/plain": [
       "John and Mary run\n"
      ]
     },
     "metadata": {},
     "output_type": "display_data"
    }
   ],
   "source": [
    "p -cat=Sentence -lang=Eng \"John and Mary run\" | l -lang=Eng3"
   ]
  }
 ],
 "metadata": {
  "kernelspec": {
   "display_name": "GF",
   "language": "gf",
   "name": "gf"
  },
  "language_info": {
   "file_extension": ".gf",
   "mimetype": "text/gf",
   "name": "gf"
  }
 },
 "nbformat": 4,
 "nbformat_minor": 2
}
